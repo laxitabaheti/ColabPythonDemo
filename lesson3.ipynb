{
  "nbformat": 4,
  "nbformat_minor": 0,
  "metadata": {
    "colab": {
      "name": "lesson3.ipynb",
      "provenance": [],
      "collapsed_sections": [],
      "authorship_tag": "ABX9TyP8gVWACQXX4lrU7m+u8P7t",
      "include_colab_link": true
    },
    "kernelspec": {
      "name": "python3",
      "display_name": "Python 3"
    },
    "language_info": {
      "name": "python"
    }
  },
  "cells": [
    {
      "cell_type": "markdown",
      "metadata": {
        "id": "view-in-github",
        "colab_type": "text"
      },
      "source": [
        "<a href=\"https://colab.research.google.com/github/laxitabaheti/ColabPythonDemo/blob/main/lesson3.ipynb\" target=\"_parent\"><img src=\"https://colab.research.google.com/assets/colab-badge.svg\" alt=\"Open In Colab\"/></a>"
      ]
    },
    {
      "cell_type": "code",
      "metadata": {
        "colab": {
          "base_uri": "https://localhost:8080/"
        },
        "id": "3z-kmecO4NQ1",
        "outputId": "8095ce05-9cbe-4f4a-e8e9-53acf2ee7915"
      },
      "source": [
        "for i in range(1,11):\n",
        "  print(i)\n",
        "\n"
      ],
      "execution_count": null,
      "outputs": [
        {
          "output_type": "stream",
          "text": [
            "1\n",
            "2\n",
            "3\n",
            "4\n",
            "5\n",
            "6\n",
            "7\n",
            "8\n",
            "9\n",
            "10\n"
          ],
          "name": "stdout"
        }
      ]
    },
    {
      "cell_type": "markdown",
      "metadata": {
        "id": "pncY_r6M9k0Z"
      },
      "source": [
        "To print number 0 to 10"
      ]
    },
    {
      "cell_type": "code",
      "metadata": {
        "colab": {
          "base_uri": "https://localhost:8080/"
        },
        "id": "_YFn8hoE9g6y",
        "outputId": "43abaa78-386b-4378-a128-add3b376d909"
      },
      "source": [
        "for i in range(7):\n",
        "  print(i)\n",
        " "
      ],
      "execution_count": null,
      "outputs": [
        {
          "output_type": "stream",
          "text": [
            "0\n",
            "1\n",
            "2\n",
            "3\n",
            "4\n",
            "5\n",
            "6\n"
          ],
          "name": "stdout"
        }
      ]
    },
    {
      "cell_type": "code",
      "metadata": {
        "colab": {
          "base_uri": "https://localhost:8080/"
        },
        "id": "g-lYcWVZAHFu",
        "outputId": "2cae3969-a610-453e-c9b3-1f495c3f8396"
      },
      "source": [
        "for i in range(7):\n",
        "  for j in range(i):\n",
        "    j=\"*\"\n",
        "    print(j, end=\"  \")\n",
        "  print('\\n')"
      ],
      "execution_count": null,
      "outputs": [
        {
          "output_type": "stream",
          "text": [
            "\n",
            "\n",
            "*  \n",
            "\n",
            "*  *  \n",
            "\n",
            "*  *  *  \n",
            "\n",
            "*  *  *  *  \n",
            "\n",
            "*  *  *  *  *  \n",
            "\n",
            "*  *  *  *  *  *  \n",
            "\n"
          ],
          "name": "stdout"
        }
      ]
    },
    {
      "cell_type": "code",
      "metadata": {
        "colab": {
          "base_uri": "https://localhost:8080/"
        },
        "id": "zrNEcKUTAHYc",
        "outputId": "618d098b-7f56-4de7-cd9f-91e9d46d0358"
      },
      "source": [
        "for i in range(7):\n",
        "  for j in range(i):\n",
        "    print(j, end=\"  \")\n",
        "  print('\\n')"
      ],
      "execution_count": null,
      "outputs": [
        {
          "output_type": "stream",
          "text": [
            "\n",
            "\n",
            "0  \n",
            "\n",
            "0  1  \n",
            "\n",
            "0  1  2  \n",
            "\n",
            "0  1  2  3  \n",
            "\n",
            "0  1  2  3  4  \n",
            "\n",
            "0  1  2  3  4  5  \n",
            "\n"
          ],
          "name": "stdout"
        }
      ]
    },
    {
      "cell_type": "code",
      "metadata": {
        "colab": {
          "base_uri": "https://localhost:8080/"
        },
        "id": "FdmLwdYVAHco",
        "outputId": "57322e4c-b9f1-415a-db18-ead6c4c4e5cf"
      },
      "source": [
        "def sr(x):\n",
        "  for i in range(x):\n",
        "    for j in range(i):\n",
        "      print(i, end=\"  \")\n",
        "    print('\\n')\n",
        "sr(6)"
      ],
      "execution_count": null,
      "outputs": [
        {
          "output_type": "stream",
          "text": [
            "\n",
            "\n",
            "1  \n",
            "\n",
            "2  2  \n",
            "\n",
            "3  3  3  \n",
            "\n",
            "4  4  4  4  \n",
            "\n",
            "5  5  5  5  5  \n",
            "\n"
          ],
          "name": "stdout"
        }
      ]
    },
    {
      "cell_type": "code",
      "metadata": {
        "colab": {
          "base_uri": "https://localhost:8080/"
        },
        "id": "ygofzTd2_ceZ",
        "outputId": "bb7972b2-7900-40fa-927c-c55542c0ebc2"
      },
      "source": [
        "def py(x,y):\n",
        "  for i in range(x,y):\n",
        "    for j in range(1,i):\n",
        "      print(j, end=\"  \")\n",
        "    print('\\n')\n",
        "\n",
        "py(2,6)\n",
        "  "
      ],
      "execution_count": null,
      "outputs": [
        {
          "output_type": "stream",
          "text": [
            "1  \n",
            "\n",
            "1  2  \n",
            "\n",
            "1  2  3  \n",
            "\n",
            "1  2  3  4  \n",
            "\n"
          ],
          "name": "stdout"
        }
      ]
    },
    {
      "cell_type": "code",
      "metadata": {
        "colab": {
          "base_uri": "https://localhost:8080/"
        },
        "id": "IrUzjgdw3phI",
        "outputId": "267dbf07-a64a-4dbf-8508-720ccd0ffc35"
      },
      "source": [
        "def evenodd(x,y):\n",
        " i=1\n",
        " while i<=x:\n",
        "   if i%y==0:\n",
        "     print(i)\n",
        "   i+=1\n",
        "evenodd(100,2)\n",
        "\n",
        "\n",
        "\n"
      ],
      "execution_count": null,
      "outputs": [
        {
          "output_type": "stream",
          "text": [
            "2\n",
            "4\n",
            "6\n",
            "8\n",
            "10\n",
            "12\n",
            "14\n",
            "16\n",
            "18\n",
            "20\n",
            "22\n",
            "24\n",
            "26\n",
            "28\n",
            "30\n",
            "32\n",
            "34\n",
            "36\n",
            "38\n",
            "40\n",
            "42\n",
            "44\n",
            "46\n",
            "48\n",
            "50\n",
            "52\n",
            "54\n",
            "56\n",
            "58\n",
            "60\n",
            "62\n",
            "64\n",
            "66\n",
            "68\n",
            "70\n",
            "72\n",
            "74\n",
            "76\n",
            "78\n",
            "80\n",
            "82\n",
            "84\n",
            "86\n",
            "88\n",
            "90\n",
            "92\n",
            "94\n",
            "96\n",
            "98\n",
            "100\n"
          ],
          "name": "stdout"
        }
      ]
    },
    {
      "cell_type": "code",
      "metadata": {
        "id": "55WzxNmO3p7y",
        "colab": {
          "base_uri": "https://localhost:8080/"
        },
        "outputId": "4302957c-14a6-4e9f-8ac6-4b4982fe30d0"
      },
      "source": [
        "\n",
        "i=2\n",
        "while i <=20:\n",
        "  print(i)\n",
        "  i+=2"
      ],
      "execution_count": null,
      "outputs": [
        {
          "output_type": "stream",
          "text": [
            "2\n",
            "4\n",
            "6\n",
            "8\n",
            "10\n",
            "12\n",
            "14\n",
            "16\n",
            "18\n",
            "20\n"
          ],
          "name": "stdout"
        }
      ]
    },
    {
      "cell_type": "code",
      "metadata": {
        "id": "8LMqBYfa3p-8",
        "colab": {
          "base_uri": "https://localhost:8080/"
        },
        "outputId": "677e0a21-603d-471a-9296-73272176ae54"
      },
      "source": [
        "def table(x):\n",
        " i=x\n",
        " j=10*x\n",
        " while i <=j:\n",
        "  print(i)\n",
        "  i+=x\n",
        "\n",
        "table(23)"
      ],
      "execution_count": null,
      "outputs": [
        {
          "output_type": "stream",
          "text": [
            "23\n",
            "46\n",
            "69\n",
            "92\n",
            "115\n",
            "138\n",
            "161\n",
            "184\n",
            "207\n",
            "230\n"
          ],
          "name": "stdout"
        }
      ]
    },
    {
      "cell_type": "markdown",
      "metadata": {
        "id": "y5bL_nYn5qUB"
      },
      "source": [
        "to write table "
      ]
    },
    {
      "cell_type": "code",
      "metadata": {
        "id": "TYqUMrKo3qDJ",
        "colab": {
          "base_uri": "https://localhost:8080/"
        },
        "outputId": "18a6ffa2-c24d-411c-8df1-7217f17c8159"
      },
      "source": [
        "for i in range(6,12):\n",
        "  for j in range(1,i):\n",
        "    print(i,end=\"  \")\n",
        "  print(' \\n')\n",
        " \n",
        "\n"
      ],
      "execution_count": null,
      "outputs": [
        {
          "output_type": "stream",
          "text": [
            "6  6  6  6  6   \n",
            "\n",
            "7  7  7  7  7  7   \n",
            "\n",
            "8  8  8  8  8  8  8   \n",
            "\n",
            "9  9  9  9  9  9  9  9   \n",
            "\n",
            "10  10  10  10  10  10  10  10  10   \n",
            "\n",
            "11  11  11  11  11  11  11  11  11  11   \n",
            "\n"
          ],
          "name": "stdout"
        }
      ]
    },
    {
      "cell_type": "code",
      "metadata": {
        "id": "W6LnGWFV3qJ8",
        "colab": {
          "base_uri": "https://localhost:8080/"
        },
        "outputId": "f3b420d1-413a-468d-c775-6da97309b16b"
      },
      "source": [
        "i=5 \n",
        "while i>=1:\n",
        "  for j in range(1,i):\n",
        "    print(j,end=\" \")\n",
        "  print('\\n')\n",
        "  i-=1"
      ],
      "execution_count": null,
      "outputs": [
        {
          "output_type": "stream",
          "text": [
            "1 2 3 4 \n",
            "\n",
            "1 2 3 \n",
            "\n",
            "1 2 \n",
            "\n",
            "1 \n",
            "\n",
            "\n",
            "\n"
          ],
          "name": "stdout"
        }
      ]
    },
    {
      "cell_type": "code",
      "metadata": {
        "colab": {
          "base_uri": "https://localhost:8080/"
        },
        "id": "ot6iZkvO3boe",
        "outputId": "b17820f9-8622-43a8-ad1d-33cb75cf9d1b"
      },
      "source": [
        "def ip(x):\n",
        " i=x \n",
        " while i>=1:\n",
        "   for j in range(1,i):\n",
        "     print(j,end=\" \")\n",
        "   print('\\n')\n",
        "   i-=1\n",
        "ip(7)"
      ],
      "execution_count": null,
      "outputs": [
        {
          "output_type": "stream",
          "text": [
            "1 2 3 4 5 6 \n",
            "\n",
            "1 2 3 4 5 \n",
            "\n",
            "1 2 3 4 \n",
            "\n",
            "1 2 3 \n",
            "\n",
            "1 2 \n",
            "\n",
            "1 \n",
            "\n",
            "\n",
            "\n"
          ],
          "name": "stdout"
        }
      ]
    },
    {
      "cell_type": "code",
      "metadata": {
        "colab": {
          "base_uri": "https://localhost:8080/"
        },
        "id": "m6s8IlQUzsff",
        "outputId": "6671e29b-0f2a-46a1-c73b-7497ab4efd99"
      },
      "source": [
        "print(\"hh\\n  kk\")"
      ],
      "execution_count": null,
      "outputs": [
        {
          "output_type": "stream",
          "text": [
            "hh\n",
            "  kk\n"
          ],
          "name": "stdout"
        }
      ]
    },
    {
      "cell_type": "code",
      "metadata": {
        "id": "vksB1M375joV",
        "colab": {
          "base_uri": "https://localhost:8080/"
        },
        "outputId": "9ab36592-63c1-4ff1-a257-16727657592d"
      },
      "source": [
        "x= [\"a\",\"b\",\"c\",\"d\"]\n",
        "y=len(x)\n",
        "i=0\n",
        "while i<y:\n",
        "  if i%2==0:\n",
        "    print(x[i])\n",
        "  i+=1\n"
      ],
      "execution_count": null,
      "outputs": [
        {
          "output_type": "stream",
          "text": [
            "a\n",
            "c\n"
          ],
          "name": "stdout"
        }
      ]
    },
    {
      "cell_type": "code",
      "metadata": {
        "id": "Ycw8cvzH5kwF",
        "colab": {
          "base_uri": "https://localhost:8080/"
        },
        "outputId": "6315cf9b-6b08-4d9b-e0ec-06d62a0caeb3"
      },
      "source": [
        "x= [\"a\",\"b\",\"c\",\"d\"]\n",
        "i=0\n",
        "n=len(x)\n",
        "while i<n:\n",
        "  if i%2!=0:\n",
        "    print(x[i])\n",
        "  i+=1  "
      ],
      "execution_count": null,
      "outputs": [
        {
          "output_type": "stream",
          "text": [
            "b\n",
            "d\n"
          ],
          "name": "stdout"
        }
      ]
    },
    {
      "cell_type": "code",
      "metadata": {
        "colab": {
          "base_uri": "https://localhost:8080/"
        },
        "id": "kxrr3lhma6C4",
        "outputId": "86b3ac4f-aa4a-4310-ee94-5637164141b2"
      },
      "source": [
        "\n",
        "x=\"abcdefgh\"\n",
        "i=0\n",
        "n=len(x)\n",
        "while i<n:\n",
        "  if i%2==0:\n",
        "    print(x[i])\n",
        "  i+=1  "
      ],
      "execution_count": null,
      "outputs": [
        {
          "output_type": "stream",
          "text": [
            "a\n",
            "c\n",
            "e\n",
            "g\n"
          ],
          "name": "stdout"
        }
      ]
    },
    {
      "cell_type": "code",
      "metadata": {
        "colab": {
          "base_uri": "https://localhost:8080/"
        },
        "id": "8QgWSwjFcAs5",
        "outputId": "59d421b5-40a7-4905-90cf-a42706b63d06"
      },
      "source": [
        "x=[1,2,3,4,5,6,7,8,1]\n",
        "\n",
        "  \n",
        "x.remove(2)\n",
        "print(x)\n",
        "x.clear()\n",
        "print(x)\n",
        "y=(7,4,5,56,6)\n",
        "x.extend(y)\n",
        "print(x)\n",
        "x.pop()\n",
        "print(x)\n",
        "x.remove(7)\n",
        "print(x)\n",
        "\n"
      ],
      "execution_count": null,
      "outputs": [
        {
          "output_type": "stream",
          "text": [
            "[1, 3, 4, 5, 6, 7, 8, 1]\n",
            "[]\n",
            "[7, 4, 5, 56, 6]\n",
            "[7, 4, 5, 56]\n",
            "[4, 5, 56]\n"
          ],
          "name": "stdout"
        }
      ]
    },
    {
      "cell_type": "markdown",
      "metadata": {
        "id": "DzMz4uF0gwmR"
      },
      "source": [
        "Given a list of numbers, return True if first and last number of a list is same"
      ]
    }
  ]
}