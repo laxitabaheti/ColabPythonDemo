{
  "nbformat": 4,
  "nbformat_minor": 0,
  "metadata": {
    "colab": {
      "name": "test.ipynb",
      "provenance": [],
      "collapsed_sections": [],
      "include_colab_link": true
    },
    "kernelspec": {
      "name": "python3",
      "display_name": "Python 3"
    },
    "language_info": {
      "name": "python"
    }
  },
  "cells": [
    {
      "cell_type": "markdown",
      "metadata": {
        "id": "view-in-github",
        "colab_type": "text"
      },
      "source": [
        "<a href=\"https://colab.research.google.com/github/laxitabaheti/ColabPythonDemo/blob/main/test.ipynb\" target=\"_parent\"><img src=\"https://colab.research.google.com/assets/colab-badge.svg\" alt=\"Open In Colab\"/></a>"
      ]
    },
    {
      "cell_type": "code",
      "metadata": {
        "colab": {
          "base_uri": "https://localhost:8080/"
        },
        "id": "QpV1Nf0RnW_F",
        "outputId": "9c7e4bf3-fa16-4623-f255-74bbbbe97fa4"
      },
      "source": [
        "def print_series(x):\n",
        "  for x in range(0,x+1): \n",
        "    print(x)\n",
        "\n",
        "print_series(10)"
      ],
      "execution_count": null,
      "outputs": [
        {
          "output_type": "stream",
          "text": [
            "0\n",
            "1\n",
            "2\n",
            "3\n",
            "4\n",
            "5\n",
            "6\n",
            "7\n",
            "8\n",
            "9\n",
            "10\n"
          ],
          "name": "stdout"
        }
      ]
    },
    {
      "cell_type": "code",
      "metadata": {
        "colab": {
          "base_uri": "https://localhost:8080/"
        },
        "id": "aYGuBYAQFOTD",
        "outputId": "0c28a2f7-ee0b-436f-e12d-99fd0881653e"
      },
      "source": [
        "def series(n):\n",
        "  i=0\n",
        "  while i<n+1:\n",
        "    print(i)\n",
        "    i+=1\n",
        "\n",
        "series(10)\n"
      ],
      "execution_count": null,
      "outputs": [
        {
          "output_type": "stream",
          "text": [
            "0\n",
            "1\n",
            "2\n",
            "3\n",
            "4\n",
            "5\n",
            "6\n",
            "7\n",
            "8\n",
            "9\n",
            "10\n"
          ],
          "name": "stdout"
        }
      ]
    },
    {
      "cell_type": "code",
      "metadata": {
        "colab": {
          "base_uri": "https://localhost:8080/"
        },
        "id": "hUbPi7DltMGk",
        "outputId": "ec35310a-e3ea-4a4a-c9f5-1e6c0c90b8ad"
      },
      "source": [
        "def fib(n):\n",
        "  if n<0 :\n",
        "    print(\"change input\")\n",
        "  elif n==0:\n",
        "    print(n)\n",
        "  elif n==1:\n",
        "    print(n-1,n)\n",
        "  else:\n",
        "    x=0\n",
        "    y=1\n",
        "    print(x)\n",
        "    print(y)\n",
        "    for i in range(2,n):\n",
        "      z=x+y\n",
        "      print(z)\n",
        "      x=y\n",
        "      y=z\n",
        "fib(10)"
      ],
      "execution_count": null,
      "outputs": [
        {
          "output_type": "stream",
          "text": [
            "0\n",
            "1\n",
            "1\n",
            "2\n",
            "3\n",
            "5\n",
            "8\n",
            "13\n",
            "21\n",
            "34\n"
          ],
          "name": "stdout"
        }
      ]
    },
    {
      "cell_type": "code",
      "metadata": {
        "colab": {
          "base_uri": "https://localhost:8080/"
        },
        "id": "4H6mNoMiGSmt",
        "outputId": "15085103-9622-48a2-c0f0-899f0d4162ec"
      },
      "source": [
        "def fib(n):\n",
        "  if n<0 :\n",
        "    print(\"change input\")\n",
        "  elif n==0:\n",
        "    print(n)\n",
        "  elif n==1:\n",
        "    print(n-1,n)\n",
        "  else:\n",
        "       x=0\n",
        "       y=1\n",
        "       print(x)\n",
        "       print(y)\n",
        "       i=2\n",
        "       while i<n:      \n",
        "         z=x+y\n",
        "         x=y\n",
        "         y=z\n",
        "         print(z)\n",
        "         i+=1\n",
        "      \n",
        "fib(9)"
      ],
      "execution_count": null,
      "outputs": [
        {
          "output_type": "stream",
          "text": [
            "0\n",
            "1\n",
            "1\n",
            "2\n",
            "3\n",
            "5\n",
            "8\n",
            "13\n",
            "21\n"
          ],
          "name": "stdout"
        }
      ]
    },
    {
      "cell_type": "code",
      "metadata": {
        "colab": {
          "base_uri": "https://localhost:8080/"
        },
        "id": "E32297BCVk5X",
        "outputId": "160462b2-8744-4fec-fa70-45a737f8166e"
      },
      "source": [
        "def evenodd(x,y):\n",
        " i=1\n",
        " while i<=x:\n",
        "   if i%y==0:\n",
        "     print(i)\n",
        "   i+=1\n",
        " i=1\n",
        " while i<=x:\n",
        "   if i%y!=0:\n",
        "     print(i)\n",
        "   i+=1\n",
        "  \n",
        "\n",
        "evenodd(23,2)\n",
        "        \n",
        "\n",
        "\n"
      ],
      "execution_count": null,
      "outputs": [
        {
          "output_type": "stream",
          "text": [
            "2\n",
            "4\n",
            "6\n",
            "8\n",
            "10\n",
            "12\n",
            "14\n",
            "16\n",
            "18\n",
            "20\n",
            "22\n",
            "1\n",
            "3\n",
            "5\n",
            "7\n",
            "9\n",
            "11\n",
            "13\n",
            "15\n",
            "17\n",
            "19\n",
            "21\n",
            "23\n"
          ],
          "name": "stdout"
        }
      ]
    },
    {
      "cell_type": "code",
      "metadata": {
        "colab": {
          "base_uri": "https://localhost:8080/"
        },
        "id": "AXbGSAlkXpP4",
        "outputId": "f8c83dad-30d0-483f-f2d5-a8c6a4131c2e"
      },
      "source": [
        " def prime(x):\n",
        "  i=2\n",
        "  while i<=x:\n",
        "    if i==2 or i==3 or i==5 or i==7:\n",
        "      print(i) \n",
        "    if i%2!=0 and i%3!=0 and i%5!=0 and i%7!=0:\n",
        "      print(i)\n",
        "    i+=1\n",
        " \n",
        "prime(23)"
      ],
      "execution_count": null,
      "outputs": [
        {
          "output_type": "stream",
          "text": [
            "2\n",
            "3\n",
            "5\n",
            "7\n",
            "11\n",
            "13\n",
            "17\n",
            "19\n",
            "23\n"
          ],
          "name": "stdout"
        }
      ]
    }
  ]
}