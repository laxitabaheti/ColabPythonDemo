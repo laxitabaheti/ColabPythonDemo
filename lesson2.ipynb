{
  "nbformat": 4,
  "nbformat_minor": 0,
  "metadata": {
    "colab": {
      "name": "lesson2.ipynb",
      "provenance": [],
      "authorship_tag": "ABX9TyMhEvIOC38wFS/ymaapV8IQ",
      "include_colab_link": true
    },
    "kernelspec": {
      "name": "python3",
      "display_name": "Python 3"
    },
    "language_info": {
      "name": "python"
    }
  },
  "cells": [
    {
      "cell_type": "markdown",
      "metadata": {
        "id": "view-in-github",
        "colab_type": "text"
      },
      "source": [
        "<a href=\"https://colab.research.google.com/github/laxitabaheti/ColabPythonDemo/blob/main/lesson2.ipynb\" target=\"_parent\"><img src=\"https://colab.research.google.com/assets/colab-badge.svg\" alt=\"Open In Colab\"/></a>"
      ]
    },
    {
      "cell_type": "code",
      "metadata": {
        "colab": {
          "base_uri": "https://localhost:8080/"
        },
        "id": "pNt81_4L5CR-",
        "outputId": "46600eb3-54f4-4d93-e2de-a516f4abcd22"
      },
      "source": [
        "night=[\"stars\",\"moon\",\"light\"]\n",
        "night.insert(2,\"songs\")\n",
        "print(night)"
      ],
      "execution_count": null,
      "outputs": [
        {
          "output_type": "stream",
          "text": [
            "['stars', 'moon', 'songs', 'light']\n"
          ],
          "name": "stdout"
        }
      ]
    },
    {
      "cell_type": "code",
      "metadata": {
        "colab": {
          "base_uri": "https://localhost:8080/"
        },
        "id": "USvqC8eY5zS4",
        "outputId": "2fa3c96a-f8b2-4ac8-f1dd-15b96db8119d"
      },
      "source": [
        "y1=(\"shadow\",)\n",
        "night+=y1\n",
        "print(night)"
      ],
      "execution_count": null,
      "outputs": [
        {
          "output_type": "stream",
          "text": [
            "['stars', 'moon', 'songs', 'light', 'm', 'o', 'o', 'n', 'l', 'i', 'g', 'h', 't', 's', 'h', 'a', 'd', 'o', 'w', 's', 'h', 'a', 'd', 'o', 'w', 'shadow']\n"
          ],
          "name": "stdout"
        }
      ]
    },
    {
      "cell_type": "code",
      "metadata": {
        "colab": {
          "base_uri": "https://localhost:8080/"
        },
        "id": "xzTBed2P9BYW",
        "outputId": "4359bfab-1fbf-4e9e-9ab8-24ae6f9cca86"
      },
      "source": [
        "for x in night:\n",
        "  print(x)"
      ],
      "execution_count": null,
      "outputs": [
        {
          "output_type": "stream",
          "text": [
            "stars\n",
            "moon\n",
            "songs\n",
            "light\n",
            "m\n",
            "o\n",
            "o\n",
            "n\n",
            "l\n",
            "i\n",
            "g\n",
            "h\n",
            "t\n",
            "s\n",
            "h\n",
            "a\n",
            "d\n",
            "o\n",
            "w\n",
            "s\n",
            "h\n",
            "a\n",
            "d\n",
            "o\n",
            "w\n",
            "shadow\n"
          ],
          "name": "stdout"
        }
      ]
    },
    {
      "cell_type": "code",
      "metadata": {
        "colab": {
          "base_uri": "https://localhost:8080/"
        },
        "id": "HPRXZM4B9Bmt",
        "outputId": "9fbbacbd-5532-4cff-9f5e-8f5ca3557642"
      },
      "source": [
        "for i in range(len(night)):\n",
        "  print(night[i])"
      ],
      "execution_count": null,
      "outputs": [
        {
          "output_type": "stream",
          "text": [
            "stars\n",
            "moon\n",
            "songs\n",
            "light\n",
            "m\n",
            "o\n",
            "o\n",
            "n\n",
            "l\n",
            "i\n",
            "g\n",
            "h\n",
            "t\n",
            "s\n",
            "h\n",
            "a\n",
            "d\n",
            "o\n",
            "w\n",
            "s\n",
            "h\n",
            "a\n",
            "d\n",
            "o\n",
            "w\n",
            "shadow\n"
          ],
          "name": "stdout"
        }
      ]
    },
    {
      "cell_type": "code",
      "metadata": {
        "colab": {
          "base_uri": "https://localhost:8080/"
        },
        "id": "yDz_TBW25zeQ",
        "outputId": "11718d70-18b7-4f24-eb26-009e1fc6be38"
      },
      "source": [
        "A=[1,2,3,4]\n",
        "B=tuple(A)\n",
        "print(B)"
      ],
      "execution_count": null,
      "outputs": [
        {
          "output_type": "stream",
          "text": [
            "(1, 2, 3, 4)\n"
          ],
          "name": "stdout"
        }
      ]
    },
    {
      "cell_type": "code",
      "metadata": {
        "colab": {
          "base_uri": "https://localhost:8080/"
        },
        "id": "H3fwSxbs9aAq",
        "outputId": "85c83995-4b36-441e-9600-9beb95430f5c"
      },
      "source": [
        "i=0\n",
        "while i<len(B):\n",
        "  print(B[i])\n",
        "  i=i+1"
      ],
      "execution_count": null,
      "outputs": [
        {
          "output_type": "stream",
          "text": [
            "1\n",
            "2\n",
            "3\n",
            "4\n"
          ],
          "name": "stdout"
        }
      ]
    },
    {
      "cell_type": "code",
      "metadata": {
        "colab": {
          "base_uri": "https://localhost:8080/"
        },
        "id": "MpJdtcZN9aRA",
        "outputId": "501a386c-3566-49b6-913d-ca31f612cccb"
      },
      "source": [
        "def func(x,y):\n",
        "  print(x+y)\n",
        "\n",
        "func(2,3)"
      ],
      "execution_count": null,
      "outputs": [
        {
          "output_type": "stream",
          "text": [
            "5\n"
          ],
          "name": "stdout"
        }
      ]
    }
  ]
}