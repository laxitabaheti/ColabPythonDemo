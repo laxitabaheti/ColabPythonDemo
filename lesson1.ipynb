{
  "nbformat": 4,
  "nbformat_minor": 0,
  "metadata": {
    "colab": {
      "name": "lesson1.ipynb",
      "provenance": [],
      "collapsed_sections": [],
      "authorship_tag": "ABX9TyM/WBr4+ZzfRdCejCH8srmv",
      "include_colab_link": true
    },
    "kernelspec": {
      "name": "python3",
      "display_name": "Python 3"
    },
    "language_info": {
      "name": "python"
    }
  },
  "cells": [
    {
      "cell_type": "markdown",
      "metadata": {
        "id": "view-in-github",
        "colab_type": "text"
      },
      "source": [
        "<a href=\"https://colab.research.google.com/github/laxitabaheti/ColabPythonDemo/blob/main/lesson1.ipynb\" target=\"_parent\"><img src=\"https://colab.research.google.com/assets/colab-badge.svg\" alt=\"Open In Colab\"/></a>"
      ]
    },
    {
      "cell_type": "code",
      "metadata": {
        "id": "loxAAgvG5r5W"
      },
      "source": [
        " x=int(1)\n",
        " y=float(2)\n",
        " print(type(x))\n"
      ],
      "execution_count": null,
      "outputs": []
    },
    {
      "cell_type": "code",
      "metadata": {
        "colab": {
          "base_uri": "https://localhost:8080/"
        },
        "id": "z-FYrM32jSRH",
        "outputId": "a27175b9-e50f-480d-9293-6ff5a0952cd2"
      },
      "source": [
        "cat=[ \"A\",\"B\", \"C\" ]\n",
        "x ,y , z = cat\n",
        "print(x)\n",
        "print(y)\n",
        "print(z)\n"
      ],
      "execution_count": null,
      "outputs": [
        {
          "output_type": "stream",
          "text": [
            "A\n",
            "B\n",
            "C\n"
          ],
          "name": "stdout"
        }
      ]
    },
    {
      "cell_type": "markdown",
      "metadata": {
        "id": "Ya0u2jgylVh3"
      },
      "source": [
        "\n"
      ]
    },
    {
      "cell_type": "code",
      "metadata": {
        "colab": {
          "base_uri": "https://localhost:8080/"
        },
        "id": "KIrlCuNemkXd",
        "outputId": "e4cf30a1-9e49-401c-be96-e23b5e7131b5"
      },
      "source": [
        "x = \"cat\"\n",
        "def phew():\n",
        "  print(\"smelly \" +x)\n",
        "\n",
        "phew()"
      ],
      "execution_count": null,
      "outputs": [
        {
          "output_type": "stream",
          "text": [
            "smelly cat\n"
          ],
          "name": "stdout"
        }
      ]
    },
    {
      "cell_type": "code",
      "metadata": {
        "colab": {
          "base_uri": "https://localhost:8080/"
        },
        "id": "cq80vkuGnsi_",
        "outputId": "525341cb-d278-4ff3-996b-fee684c268b8"
      },
      "source": [
        "x= \"Happy\"\n",
        "\n",
        "def k():\n",
        "  print(x+\" smile\")\n",
        "\n",
        "k()\n",
        "\n",
        "print(x+ \" not happy\")"
      ],
      "execution_count": null,
      "outputs": [
        {
          "output_type": "stream",
          "text": [
            "Happy smile\n",
            "Happy not happy\n"
          ],
          "name": "stdout"
        }
      ]
    },
    {
      "cell_type": "code",
      "metadata": {
        "colab": {
          "base_uri": "https://localhost:8080/"
        },
        "id": "zP_948h4pLj8",
        "outputId": "5cbf94d2-90aa-4333-eba1-b156b61b6cf4"
      },
      "source": [
        "x=5\n",
        "y=6\n",
        "print(x+y)"
      ],
      "execution_count": null,
      "outputs": [
        {
          "output_type": "stream",
          "text": [
            "11\n"
          ],
          "name": "stdout"
        }
      ]
    },
    {
      "cell_type": "code",
      "metadata": {
        "colab": {
          "base_uri": "https://localhost:8080/"
        },
        "id": "ryytiU5H3GA-",
        "outputId": "b94ec97d-04e8-41a6-be30-1cc37e0939d9"
      },
      "source": [
        "print('laxita')"
      ],
      "execution_count": null,
      "outputs": [
        {
          "output_type": "stream",
          "text": [
            "laxita\n"
          ],
          "name": "stdout"
        }
      ]
    },
    {
      "cell_type": "markdown",
      "metadata": {
        "id": "jiac9r40lWGF"
      },
      "source": [
        ""
      ]
    },
    {
      "cell_type": "code",
      "metadata": {
        "colab": {
          "base_uri": "https://localhost:8080/"
        },
        "id": "ylFeceli0Kdz",
        "outputId": "514d8284-b89a-483b-95e2-b0a6c4f11ade"
      },
      "source": [
        "import random \n",
        "print(random.randrange(1,20))"
      ],
      "execution_count": null,
      "outputs": [
        {
          "output_type": "stream",
          "text": [
            "18\n"
          ],
          "name": "stdout"
        }
      ]
    },
    {
      "cell_type": "code",
      "metadata": {
        "colab": {
          "base_uri": "https://localhost:8080/"
        },
        "id": "VLTh_cxd5c3P",
        "outputId": "31d76ba0-3933-4be2-cf39-b1928db6d348"
      },
      "source": [
        "x=int(\"34\")\n",
        "y=float(\"34.5\")\n",
        "if x>y:\n",
        "  print(\"false\")\n",
        "else:\n",
        "  print(\"true\")"
      ],
      "execution_count": null,
      "outputs": [
        {
          "output_type": "stream",
          "text": [
            "true\n"
          ],
          "name": "stdout"
        }
      ]
    },
    {
      "cell_type": "code",
      "metadata": {
        "colab": {
          "base_uri": "https://localhost:8080/"
        },
        "id": "k9TfXzrl70IK",
        "outputId": "2ffb6485-f876-42d3-e6d3-3aa679138a91"
      },
      "source": [
        "def _len_() :\n",
        " return 0\n",
        "x=_len_()\n",
        "print(bool(x))"
      ],
      "execution_count": null,
      "outputs": [
        {
          "output_type": "stream",
          "text": [
            "False\n"
          ],
          "name": "stdout"
        }
      ]
    },
    {
      "cell_type": "code",
      "metadata": {
        "colab": {
          "base_uri": "https://localhost:8080/"
        },
        "id": "K-yb-OmFURfL",
        "outputId": "cb76578c-0e5a-4157-d253-86a8d5bbd28e"
      },
      "source": [
        "x=3\n",
        "x|=2\n",
        "print(x)"
      ],
      "execution_count": null,
      "outputs": [
        {
          "output_type": "stream",
          "text": [
            "3\n"
          ],
          "name": "stdout"
        }
      ]
    },
    {
      "cell_type": "code",
      "metadata": {
        "colab": {
          "base_uri": "https://localhost:8080/"
        },
        "id": "-8pMxMc0VjON",
        "outputId": "48e97b97-2560-4bd8-a08e-0deeef5c1cd0"
      },
      "source": [
        "2 | 3"
      ],
      "execution_count": null,
      "outputs": [
        {
          "output_type": "execute_result",
          "data": {
            "text/plain": [
              "3"
            ]
          },
          "metadata": {
            "tags": []
          },
          "execution_count": 58
        }
      ]
    },
    {
      "cell_type": "code",
      "metadata": {
        "colab": {
          "base_uri": "https://localhost:8080/"
        },
        "id": "vlkeeVvqXF1Q",
        "outputId": "8c4e844e-65aa-4755-a67d-4cb7aada30ce"
      },
      "source": [
        "x = None\n",
        "y = True\n",
        "if x and y:\n",
        "  print(\"in true\")\n",
        "else:\n",
        "  print(\"in false\")"
      ],
      "execution_count": null,
      "outputs": [
        {
          "output_type": "stream",
          "text": [
            "in false\n"
          ],
          "name": "stdout"
        }
      ]
    },
    {
      "cell_type": "code",
      "metadata": {
        "colab": {
          "base_uri": "https://localhost:8080/"
        },
        "id": "HEvT-iwhYGCt",
        "outputId": "13fce1d9-725d-45bb-95c8-27395d5fcb11"
      },
      "source": [
        "y=10\n",
        "if y<12 and y>7 :\n",
        " print(\"true\")\n",
        "else :\n",
        " print(\"false\") "
      ],
      "execution_count": null,
      "outputs": [
        {
          "output_type": "stream",
          "text": [
            "true\n"
          ],
          "name": "stdout"
        }
      ]
    },
    {
      "cell_type": "code",
      "metadata": {
        "colab": {
          "base_uri": "https://localhost:8080/"
        },
        "id": "5CSbj4XAYJiW",
        "outputId": "5decc883-3f8b-4fcc-fed8-8361135e0604"
      },
      "source": [
        "2 or \"laxita\""
      ],
      "execution_count": 1,
      "outputs": [
        {
          "output_type": "execute_result",
          "data": {
            "text/plain": [
              "2"
            ]
          },
          "metadata": {
            "tags": []
          },
          "execution_count": 1
        }
      ]
    },
    {
      "cell_type": "code",
      "metadata": {
        "colab": {
          "base_uri": "https://localhost:8080/"
        },
        "id": "g-a2C501YI77",
        "outputId": "385963bf-9d05-470e-b31e-7e332261365f"
      },
      "source": [
        "x= 2\n",
        "y=2.0\n",
        "\n",
        "x is y,x == y"
      ],
      "execution_count": null,
      "outputs": [
        {
          "output_type": "execute_result",
          "data": {
            "text/plain": [
              "(False, True)"
            ]
          },
          "metadata": {
            "tags": []
          },
          "execution_count": 96
        }
      ]
    },
    {
      "cell_type": "code",
      "metadata": {
        "colab": {
          "base_uri": "https://localhost:8080/"
        },
        "id": "kKn_r2SkYOtD",
        "outputId": "408a203b-bd1f-43d3-891d-8f945c4e19d5"
      },
      "source": [
        "2==2.0"
      ],
      "execution_count": null,
      "outputs": [
        {
          "output_type": "execute_result",
          "data": {
            "text/plain": [
              "True"
            ]
          },
          "metadata": {
            "tags": []
          },
          "execution_count": 94
        }
      ]
    },
    {
      "cell_type": "code",
      "metadata": {
        "colab": {
          "base_uri": "https://localhost:8080/"
        },
        "id": "zQReJHjbYR6I",
        "outputId": "842a4c0f-2a1e-4a3e-a77e-aa1408ba8c51"
      },
      "source": [
        "cat=[\"hh\",\"yy\",\"kk\",\"hh\",2,True]\n",
        "print(cat[-3])"
      ],
      "execution_count": null,
      "outputs": [
        {
          "output_type": "stream",
          "text": [
            "hh\n"
          ],
          "name": "stdout"
        }
      ]
    },
    {
      "cell_type": "code",
      "metadata": {
        "colab": {
          "base_uri": "https://localhost:8080/"
        },
        "id": "J-xKEXjRYSdi",
        "outputId": "cf0db36e-2d4d-4c07-8ab1-925c1ab838d3"
      },
      "source": [
        "print(cat[2:4])"
      ],
      "execution_count": null,
      "outputs": [
        {
          "output_type": "stream",
          "text": [
            "['kk', 'hh']\n"
          ],
          "name": "stdout"
        }
      ]
    },
    {
      "cell_type": "code",
      "metadata": {
        "colab": {
          "base_uri": "https://localhost:8080/"
        },
        "id": "xtUFZEGyYS-y",
        "outputId": "ff6cd87b-58ab-4baf-f644-effe2d79f1c2"
      },
      "source": [
        "print(cat[:3])"
      ],
      "execution_count": null,
      "outputs": [
        {
          "output_type": "stream",
          "text": [
            "['hh', 'yy', 'kk']\n"
          ],
          "name": "stdout"
        }
      ]
    },
    {
      "cell_type": "code",
      "metadata": {
        "colab": {
          "base_uri": "https://localhost:8080/"
        },
        "id": "Cs_FerD8ivdR",
        "outputId": "9bb4cc6d-9b82-41df-d8b0-c3436efddd1b"
      },
      "source": [
        "if \"ll\" in cat:\n",
        "  print(\"yes\")\n",
        "else:\n",
        "  print(\"no\") "
      ],
      "execution_count": null,
      "outputs": [
        {
          "output_type": "stream",
          "text": [
            "no\n"
          ],
          "name": "stdout"
        }
      ]
    },
    {
      "cell_type": "code",
      "metadata": {
        "colab": {
          "base_uri": "https://localhost:8080/"
        },
        "id": "KOV7tfeqivsD",
        "outputId": "5d04306f-4312-4b3c-f34d-e14388173484"
      },
      "source": [
        "\"ll\" in cat"
      ],
      "execution_count": null,
      "outputs": [
        {
          "output_type": "execute_result",
          "data": {
            "text/plain": [
              "False"
            ]
          },
          "metadata": {
            "tags": []
          },
          "execution_count": 114
        }
      ]
    },
    {
      "cell_type": "code",
      "metadata": {
        "colab": {
          "base_uri": "https://localhost:8080/"
        },
        "id": "i3qQomHEiv3E",
        "outputId": "2e94fc8f-1093-4e26-c08f-295a70a9b4cb"
      },
      "source": [
        " cat[2]= \"pp+oo\"\n",
        " print(cat)"
      ],
      "execution_count": null,
      "outputs": [
        {
          "output_type": "stream",
          "text": [
            "['hh', 'yy', 'pp+oo', 'hh', 2, True]\n"
          ],
          "name": "stdout"
        }
      ]
    },
    {
      "cell_type": "code",
      "metadata": {
        "colab": {
          "base_uri": "https://localhost:8080/"
        },
        "id": "3VORUOUjiv-Z",
        "outputId": "7404feba-9c8b-4353-abec-666d02ed5dcf"
      },
      "source": [
        "cat[1:4]=[\"nn\",\"jk\",\"la\"]\n",
        "print(cat)"
      ],
      "execution_count": null,
      "outputs": [
        {
          "output_type": "stream",
          "text": [
            "['hh', 'nn', 'jk', 'la', 2, True]\n"
          ],
          "name": "stdout"
        }
      ]
    },
    {
      "cell_type": "code",
      "metadata": {
        "colab": {
          "base_uri": "https://localhost:8080/"
        },
        "id": "k8CYIfphiwGX",
        "outputId": "76caddb7-2c71-4167-ecc2-7b29b8f10ea8"
      },
      "source": [
        "cat[1:5]=[\"j\",\"k\",\"c\",\"s\",\"a\",\"f\"]\n",
        "print(cat)"
      ],
      "execution_count": null,
      "outputs": [
        {
          "output_type": "stream",
          "text": [
            "['hh', 'j', 'k', 'c', 's', 'a', 'f', 'a', 'f', 'a', True]\n"
          ],
          "name": "stdout"
        }
      ]
    },
    {
      "cell_type": "code",
      "metadata": {
        "colab": {
          "base_uri": "https://localhost:8080/"
        },
        "id": "oBlMI2pVl6cA",
        "outputId": "65a04fbc-46cc-43b0-961d-4c02129b802a"
      },
      "source": [
        "help(cat)"
      ],
      "execution_count": null,
      "outputs": [
        {
          "output_type": "stream",
          "text": [
            "Help on list object:\n",
            "\n",
            "class list(object)\n",
            " |  list(iterable=(), /)\n",
            " |  \n",
            " |  Built-in mutable sequence.\n",
            " |  \n",
            " |  If no argument is given, the constructor creates a new empty list.\n",
            " |  The argument must be an iterable if specified.\n",
            " |  \n",
            " |  Methods defined here:\n",
            " |  \n",
            " |  __add__(self, value, /)\n",
            " |      Return self+value.\n",
            " |  \n",
            " |  __contains__(self, key, /)\n",
            " |      Return key in self.\n",
            " |  \n",
            " |  __delitem__(self, key, /)\n",
            " |      Delete self[key].\n",
            " |  \n",
            " |  __eq__(self, value, /)\n",
            " |      Return self==value.\n",
            " |  \n",
            " |  __ge__(self, value, /)\n",
            " |      Return self>=value.\n",
            " |  \n",
            " |  __getattribute__(self, name, /)\n",
            " |      Return getattr(self, name).\n",
            " |  \n",
            " |  __getitem__(...)\n",
            " |      x.__getitem__(y) <==> x[y]\n",
            " |  \n",
            " |  __gt__(self, value, /)\n",
            " |      Return self>value.\n",
            " |  \n",
            " |  __iadd__(self, value, /)\n",
            " |      Implement self+=value.\n",
            " |  \n",
            " |  __imul__(self, value, /)\n",
            " |      Implement self*=value.\n",
            " |  \n",
            " |  __init__(self, /, *args, **kwargs)\n",
            " |      Initialize self.  See help(type(self)) for accurate signature.\n",
            " |  \n",
            " |  __iter__(self, /)\n",
            " |      Implement iter(self).\n",
            " |  \n",
            " |  __le__(self, value, /)\n",
            " |      Return self<=value.\n",
            " |  \n",
            " |  __len__(self, /)\n",
            " |      Return len(self).\n",
            " |  \n",
            " |  __lt__(self, value, /)\n",
            " |      Return self<value.\n",
            " |  \n",
            " |  __mul__(self, value, /)\n",
            " |      Return self*value.\n",
            " |  \n",
            " |  __ne__(self, value, /)\n",
            " |      Return self!=value.\n",
            " |  \n",
            " |  __repr__(self, /)\n",
            " |      Return repr(self).\n",
            " |  \n",
            " |  __reversed__(self, /)\n",
            " |      Return a reverse iterator over the list.\n",
            " |  \n",
            " |  __rmul__(self, value, /)\n",
            " |      Return value*self.\n",
            " |  \n",
            " |  __setitem__(self, key, value, /)\n",
            " |      Set self[key] to value.\n",
            " |  \n",
            " |  __sizeof__(self, /)\n",
            " |      Return the size of the list in memory, in bytes.\n",
            " |  \n",
            " |  append(self, object, /)\n",
            " |      Append object to the end of the list.\n",
            " |  \n",
            " |  clear(self, /)\n",
            " |      Remove all items from list.\n",
            " |  \n",
            " |  copy(self, /)\n",
            " |      Return a shallow copy of the list.\n",
            " |  \n",
            " |  count(self, value, /)\n",
            " |      Return number of occurrences of value.\n",
            " |  \n",
            " |  extend(self, iterable, /)\n",
            " |      Extend list by appending elements from the iterable.\n",
            " |  \n",
            " |  index(self, value, start=0, stop=9223372036854775807, /)\n",
            " |      Return first index of value.\n",
            " |      \n",
            " |      Raises ValueError if the value is not present.\n",
            " |  \n",
            " |  insert(self, index, object, /)\n",
            " |      Insert object before index.\n",
            " |  \n",
            " |  pop(self, index=-1, /)\n",
            " |      Remove and return item at index (default last).\n",
            " |      \n",
            " |      Raises IndexError if list is empty or index is out of range.\n",
            " |  \n",
            " |  remove(self, value, /)\n",
            " |      Remove first occurrence of value.\n",
            " |      \n",
            " |      Raises ValueError if the value is not present.\n",
            " |  \n",
            " |  reverse(self, /)\n",
            " |      Reverse *IN PLACE*.\n",
            " |  \n",
            " |  sort(self, /, *, key=None, reverse=False)\n",
            " |      Stable sort *IN PLACE*.\n",
            " |  \n",
            " |  ----------------------------------------------------------------------\n",
            " |  Static methods defined here:\n",
            " |  \n",
            " |  __new__(*args, **kwargs) from builtins.type\n",
            " |      Create and return a new object.  See help(type) for accurate signature.\n",
            " |  \n",
            " |  ----------------------------------------------------------------------\n",
            " |  Data and other attributes defined here:\n",
            " |  \n",
            " |  __hash__ = None\n",
            "\n"
          ],
          "name": "stdout"
        }
      ]
    },
    {
      "cell_type": "code",
      "metadata": {
        "colab": {
          "base_uri": "https://localhost:8080/"
        },
        "id": "pxEriCXRmKgT",
        "outputId": "b7868406-fb03-4c34-d9d1-12988bef15fb"
      },
      "source": [
        "cat.insert(7,\"vv\")\n",
        "print(cat)"
      ],
      "execution_count": null,
      "outputs": [
        {
          "output_type": "stream",
          "text": [
            "['hh', 'j', 'k', 'c', 's', 'a', 'f', 'vv', 'vv', 'a', 'f', 'a', True]\n"
          ],
          "name": "stdout"
        }
      ]
    },
    {
      "cell_type": "code",
      "metadata": {
        "colab": {
          "base_uri": "https://localhost:8080/"
        },
        "id": "iOheGRHCmKw4",
        "outputId": "204cd86b-e3a8-4b72-8fa4-04c72ba27b31"
      },
      "source": [
        "colors=[\"blue\",\"black\",\"red\",\"white\"]\n",
        "colors.append(\"yellow\")\n",
        "print(colors)"
      ],
      "execution_count": null,
      "outputs": [
        {
          "output_type": "stream",
          "text": [
            "['blue', 'black', 'red', 'white', 'yellow']\n"
          ],
          "name": "stdout"
        }
      ]
    },
    {
      "cell_type": "code",
      "metadata": {
        "colab": {
          "base_uri": "https://localhost:8080/"
        },
        "id": "2-KLgIMs0LYF",
        "outputId": "0be42c80-0a27-4e8d-a1f6-0c611c756d07"
      },
      "source": [
        "colors.insert(3,\"green\")\n",
        "print(colors)"
      ],
      "execution_count": null,
      "outputs": [
        {
          "output_type": "stream",
          "text": [
            "['blue', 'black', 'red', 'green', 'white', 'yellow']\n"
          ],
          "name": "stdout"
        }
      ]
    },
    {
      "cell_type": "code",
      "metadata": {
        "colab": {
          "base_uri": "https://localhost:8080/"
        },
        "id": "GdoKr_oR0LuA",
        "outputId": "cd81b054-f03a-4ec5-c19e-98cf6dddcfc5"
      },
      "source": [
        "colors1=[1,2,3,4]\n",
        "colors.extend(colors1)\n",
        "print(colors)"
      ],
      "execution_count": null,
      "outputs": [
        {
          "output_type": "stream",
          "text": [
            "['blue', 'black', 'red', 'green', 'white', 'yellow', 1, 2, 3, 4]\n"
          ],
          "name": "stdout"
        }
      ]
    },
    {
      "cell_type": "code",
      "metadata": {
        "colab": {
          "base_uri": "https://localhost:8080/"
        },
        "id": "ZXT2ffam0wMK",
        "outputId": "699ac88f-9b62-4661-bac4-040369ab949f"
      },
      "source": [
        "colors.pop(2)\n",
        "print(colors)"
      ],
      "execution_count": null,
      "outputs": [
        {
          "output_type": "stream",
          "text": [
            "['blue', 'black', 'green', 'white', 'yellow', 1, 2, 3, 4]\n"
          ],
          "name": "stdout"
        }
      ]
    },
    {
      "cell_type": "code",
      "metadata": {
        "colab": {
          "base_uri": "https://localhost:8080/"
        },
        "id": "vpfD9ObZ0wVx",
        "outputId": "a01433d5-c15d-417c-9a5c-b00610692c82"
      },
      "source": [
        "del colors[3]\n",
        "print(colors)"
      ],
      "execution_count": null,
      "outputs": [
        {
          "output_type": "stream",
          "text": [
            "['blue', 'black', 'green', 'yellow', 1, 2, 3, 4]\n"
          ],
          "name": "stdout"
        }
      ]
    },
    {
      "cell_type": "code",
      "metadata": {
        "colab": {
          "base_uri": "https://localhost:8080/"
        },
        "id": "j9ROglnB0wfR",
        "outputId": "f6ec34eb-c85f-4fc0-cda4-c8f9f21c7a57"
      },
      "source": [
        "colors=[1,2,3,4]\n",
        "colors.clear()\n",
        "print(colors)"
      ],
      "execution_count": null,
      "outputs": [
        {
          "output_type": "stream",
          "text": [
            "[]\n"
          ],
          "name": "stdout"
        }
      ]
    },
    {
      "cell_type": "code",
      "metadata": {
        "colab": {
          "base_uri": "https://localhost:8080/"
        },
        "id": "jotzvs5S2Qis",
        "outputId": "27cbd2cf-f7ab-48a8-a579-b47117721e74"
      },
      "source": [
        "A=(\"a\",\"b\",\"c\",\"d\")\n",
        "B=list(A)\n",
        "B[3]=\"T\"\n",
        "A=tuple(B)\n",
        "\n",
        "print(A)"
      ],
      "execution_count": null,
      "outputs": [
        {
          "output_type": "stream",
          "text": [
            "('a', 'b', 'c', 'T')\n"
          ],
          "name": "stdout"
        }
      ]
    },
    {
      "cell_type": "code",
      "metadata": {
        "colab": {
          "base_uri": "https://localhost:8080/",
          "height": 247
        },
        "id": "GVRzMxRI2Q_3",
        "outputId": "39a20bbf-ccee-4b1a-bf65-8f62a00feec9"
      },
      "source": [
        "x = {\"apple\", \"banana\", \"cherry\"}\n",
        "y = {\"google\", \"microsoft\", \"apple\"}\n",
        "\n",
        "z=x.union(y)\n",
        "z1=x.intersection_update(y)\n",
        "z2=x.intersection(y)\n",
        "z3=x.symmetric_difference(y)\n",
        "z4=x.symmetric_difference_update(y)\n",
        "print(z,z1,z2,z3,z4)\n",
        "\n",
        "z.clear()\n",
        "print(z)\n",
        "del z4\n",
        "print (z4)"
      ],
      "execution_count": null,
      "outputs": [
        {
          "output_type": "stream",
          "text": [
            "{'cherry', 'microsoft', 'google', 'banana', 'apple'} None {'apple'} {'microsoft', 'google'} None\n",
            "set()\n"
          ],
          "name": "stdout"
        },
        {
          "output_type": "error",
          "ename": "NameError",
          "evalue": "ignored",
          "traceback": [
            "\u001b[0;31m---------------------------------------------------------------------------\u001b[0m",
            "\u001b[0;31mNameError\u001b[0m                                 Traceback (most recent call last)",
            "\u001b[0;32m<ipython-input-142-7a8d33d20c7c>\u001b[0m in \u001b[0;36m<module>\u001b[0;34m()\u001b[0m\n\u001b[1;32m     12\u001b[0m \u001b[0mprint\u001b[0m\u001b[0;34m(\u001b[0m\u001b[0mz\u001b[0m\u001b[0;34m)\u001b[0m\u001b[0;34m\u001b[0m\u001b[0;34m\u001b[0m\u001b[0m\n\u001b[1;32m     13\u001b[0m \u001b[0;32mdel\u001b[0m \u001b[0mz4\u001b[0m\u001b[0;34m\u001b[0m\u001b[0;34m\u001b[0m\u001b[0m\n\u001b[0;32m---> 14\u001b[0;31m \u001b[0mprint\u001b[0m \u001b[0;34m(\u001b[0m\u001b[0mz4\u001b[0m\u001b[0;34m)\u001b[0m\u001b[0;34m\u001b[0m\u001b[0;34m\u001b[0m\u001b[0m\n\u001b[0m",
            "\u001b[0;31mNameError\u001b[0m: name 'z4' is not defined"
          ]
        }
      ]
    },
    {
      "cell_type": "code",
      "metadata": {
        "id": "yjZHIxPn2SpP"
      },
      "source": [
        ""
      ],
      "execution_count": null,
      "outputs": []
    },
    {
      "cell_type": "code",
      "metadata": {
        "colab": {
          "base_uri": "https://localhost:8080/"
        },
        "id": "LxTkBsXB2TGW",
        "outputId": "429ec9f2-83b9-4f1f-eb55-3fadaf6a58bf"
      },
      "source": [
        "thisdict = {\n",
        "  \"brand\": \"Ford\",\n",
        "  \"model\": \"Mustang\",\n",
        "  \"year\": 1964\n",
        "}\n",
        "thisdict.update({\"year\": 2020})\n",
        "\n",
        "print(thisdict)"
      ],
      "execution_count": null,
      "outputs": [
        {
          "output_type": "stream",
          "text": [
            "{'brand': 'Ford', 'model': 'Mustang', 'year': 2020}\n"
          ],
          "name": "stdout"
        }
      ]
    },
    {
      "cell_type": "code",
      "metadata": {
        "colab": {
          "base_uri": "https://localhost:8080/"
        },
        "id": "2a1jDURZPL2b",
        "outputId": "936aaf88-7ef8-4bed-91c5-8af79efcd3ab"
      },
      "source": [
        "dict1={1:{\"A\":1,\"B\":2},2:{\"C\":3,\"D\":4},3:{\"E\":5,\"F\":6}}\n",
        "dict2={1:{\"G\":1,\"H \":2},2:{\"I\":3,\"J\":4},3:{\"K\":5,\"L\":6}}\n",
        "dict3={1:{\"M\":1,\"N\":2},2:{\"O\":3,\"P\":4},3:{\"Q\":5,\"R\":6}}    \n",
        "dictt={\"dict1\":dict1,\"dict2\":dict2,\"dict3\":dict3}  \n",
        "print(dictt)"
      ],
      "execution_count": null,
      "outputs": [
        {
          "output_type": "stream",
          "text": [
            "{'dict1': {1: {'A': 1, 'B': 2}, 2: {'C': 3, 'D': 4}, 3: {'E': 5, 'F': 6}}, 'dict2': {1: {'G': 1, 'H ': 2}, 2: {'I': 3, 'J': 4}, 3: {'K': 5, 'L': 6}}, 'dict3': {1: {'M': 1, 'N': 2}, 2: {'O': 3, 'P': 4}, 3: {'Q': 5, 'R': 6}}}\n"
          ],
          "name": "stdout"
        }
      ]
    },
    {
      "cell_type": "code",
      "metadata": {
        "colab": {
          "base_uri": "https://localhost:8080/",
          "height": 247
        },
        "id": "2l-WsU5dX91Y",
        "outputId": "d953dca5-5ac7-49af-e394-2f303e38faf2"
      },
      "source": [
        "i = 0\n",
        "while i < 6:\n",
        "  i\n",
        "  print(i)\n",
        "if i == 3:\n",
        "    continue\n",
        "\n",
        " "
      ],
      "execution_count": null,
      "outputs": [
        {
          "output_type": "stream",
          "text": [
            "1\n",
            "2\n",
            "3\n",
            "4\n",
            "5\n",
            "6\n"
          ],
          "name": "stdout"
        },
        {
          "output_type": "error",
          "ename": "SyntaxError",
          "evalue": "ignored",
          "traceback": [
            "\u001b[0;36m  File \u001b[0;32m\"<ipython-input-151-9e5a5648caf5>\"\u001b[0;36m, line \u001b[0;32m6\u001b[0m\n\u001b[0;31m    continue\u001b[0m\n\u001b[0m    ^\u001b[0m\n\u001b[0;31mSyntaxError\u001b[0m\u001b[0;31m:\u001b[0m 'continue' not properly in loop\n"
          ]
        }
      ]
    }
  ]
}