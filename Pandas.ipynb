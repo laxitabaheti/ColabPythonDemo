{
  "nbformat": 4,
  "nbformat_minor": 0,
  "metadata": {
    "colab": {
      "name": "Pandas.ipynb",
      "provenance": [],
      "collapsed_sections": [],
      "mount_file_id": "13g_g_t5TFcVKF9GKXmnGrVb5sp7GUmgL",
      "authorship_tag": "ABX9TyN+LLVZMS77Bz6W2l6mTZTt",
      "include_colab_link": true
    },
    "kernelspec": {
      "name": "python3",
      "display_name": "Python 3"
    },
    "language_info": {
      "name": "python"
    }
  },
  "cells": [
    {
      "cell_type": "markdown",
      "metadata": {
        "id": "view-in-github",
        "colab_type": "text"
      },
      "source": [
        "<a href=\"https://colab.research.google.com/github/laxitabaheti/ColabPythonDemo/blob/main/Pandas.ipynb\" target=\"_parent\"><img src=\"https://colab.research.google.com/assets/colab-badge.svg\" alt=\"Open In Colab\"/></a>"
      ]
    },
    {
      "cell_type": "code",
      "metadata": {
        "colab": {
          "base_uri": "https://localhost:8080/"
        },
        "id": "4bldX9hu9MuL",
        "outputId": "93edaff0-77b1-4c2e-94c3-610921584776"
      },
      "source": [
        "import pandas as pd\n",
        "\n",
        "mydataset = {\n",
        "  'cars': [\"BMW\", \"Toyota\" ,\"Volvo\", \"Ford\"],\n",
        "  'passings': [3, 8, 7, 2]\n",
        "}\n",
        "\n",
        "A = pd.DataFrame(mydataset)\n",
        "\n",
        "print(A)"
      ],
      "execution_count": null,
      "outputs": [
        {
          "output_type": "stream",
          "text": [
            "     cars  passings\n",
            "0     BMW         3\n",
            "1  Toyota         8\n",
            "2   Volvo         7\n",
            "3    Ford         2\n"
          ],
          "name": "stdout"
        }
      ]
    },
    {
      "cell_type": "code",
      "metadata": {
        "colab": {
          "base_uri": "https://localhost:8080/"
        },
        "id": "kmYhP4HKmU4z",
        "outputId": "1512861b-2f33-46f9-f0b6-084360c8081b"
      },
      "source": [
        "import pandas as pd\n",
        "\n",
        "a = [1, 7, 2]\n",
        "\n",
        "b = pd.Series(a)\n",
        "\n",
        "print(b)\n"
      ],
      "execution_count": null,
      "outputs": [
        {
          "output_type": "stream",
          "text": [
            "0    1\n",
            "1    7\n",
            "2    2\n",
            "dtype: int64\n"
          ],
          "name": "stdout"
        }
      ]
    },
    {
      "cell_type": "code",
      "metadata": {
        "colab": {
          "base_uri": "https://localhost:8080/"
        },
        "id": "PRm-173qpOCL",
        "outputId": "651acdaf-ba26-4e78-ac37-65f1aab78e41"
      },
      "source": [
        "import pandas as pd\n",
        "\n",
        "ar=[\"a\",\"b\",\"c\",\"d\",\"e\"]\n",
        "\n",
        "arr=pd.Series(ar, index=[1,2,3,4,5])\n",
        "\n",
        "print(arr)\n",
        "\n"
      ],
      "execution_count": null,
      "outputs": [
        {
          "output_type": "stream",
          "text": [
            "1    a\n",
            "2    b\n",
            "3    c\n",
            "4    d\n",
            "5    e\n",
            "dtype: object\n"
          ],
          "name": "stdout"
        }
      ]
    },
    {
      "cell_type": "code",
      "metadata": {
        "colab": {
          "base_uri": "https://localhost:8080/"
        },
        "id": "hpltfFNqpOwz",
        "outputId": "ae9b30d1-d8e7-46f8-c359-2c03d3e44c1a"
      },
      "source": [
        "import pandas as pd\n",
        "ar={\"alphabate\" :(\"a\",\"b\",\"c\",\"d\",\"e\"),\"number\":(1,2,3,4,5)}\n",
        "    \n",
        "arr = pd.DataFrame(ar,index=[1,2,3,4,5])\n",
        "print(arr)\n",
        "print(arr.loc[1])"
      ],
      "execution_count": null,
      "outputs": [
        {
          "output_type": "stream",
          "text": [
            "  alphabate  number\n",
            "1         a       1\n",
            "2         b       2\n",
            "3         c       3\n",
            "4         d       4\n",
            "5         e       5\n",
            "alphabate    a\n",
            "number       1\n",
            "Name: 1, dtype: object\n"
          ],
          "name": "stdout"
        }
      ]
    },
    {
      "cell_type": "code",
      "metadata": {
        "colab": {
          "base_uri": "https://localhost:8080/"
        },
        "id": "bv0mNaPLpO8D",
        "outputId": "c6ba27e7-02c8-4850-d148-bd33d8c91692"
      },
      "source": [
        "import pandas as pd\n",
        "ar={\"alphabate\" :(\"a\",\"b\",\"c\",\"d\",\"e\"),\"number\":(1,2,3,4,5)}\n",
        "    \n",
        "arr = pd.DataFrame(ar)\n",
        "print(arr.loc[[0,4]])"
      ],
      "execution_count": null,
      "outputs": [
        {
          "output_type": "stream",
          "text": [
            "  alphabate  number\n",
            "0         a       1\n",
            "4         e       5\n"
          ],
          "name": "stdout"
        }
      ]
    },
    {
      "cell_type": "code",
      "metadata": {
        "colab": {
          "base_uri": "https://localhost:8080/"
        },
        "id": "mB-CPfmBnS-3",
        "outputId": "b69878ad-c70e-4b79-b22a-63cac5cca67b"
      },
      "source": [
        "import pandas as pd\n",
        "\n",
        "a = [1, 7, 2]\n",
        "\n",
        "b = pd.Series(a,index=[\"x\",\"y\",\"z\"])\n",
        "\n",
        "print(b[\"x\"])\n"
      ],
      "execution_count": null,
      "outputs": [
        {
          "output_type": "stream",
          "text": [
            "1\n"
          ],
          "name": "stdout"
        }
      ]
    },
    {
      "cell_type": "code",
      "metadata": {
        "colab": {
          "base_uri": "https://localhost:8080/"
        },
        "id": "SK0VEZMWtQUm",
        "outputId": "b672d790-6424-436e-9a4c-7e309cf669a2"
      },
      "source": [
        "import pandas as pd\n",
        "s = {\n",
        "  \"Duration\":{\n",
        "\n",
        "    \"0\":60,\n",
        "\n",
        "    \"1\":60,\n",
        "\n",
        "    \"2\":60,\n",
        "\n",
        "    \"3\":45,\n",
        "\n",
        "    \"4\":45,\n",
        "\n",
        "    \"5\":60\n",
        "\n",
        "  },\n",
        "\n",
        "  \"Pulse\":{\n",
        "\n",
        "    \"0\":110,\n",
        "\n",
        "    \"1\":117,\n",
        "\n",
        "    \"2\":103,\n",
        "\n",
        "    \"3\":109,\n",
        "\n",
        "    \"4\":117,\n",
        "\n",
        "    \"5\":102\n",
        "\n",
        "  },\n",
        "\n",
        "  \"Maxpulse\":{\n",
        "\n",
        "    \"0\":130,\n",
        "\n",
        "    \"1\":145,\n",
        "\n",
        "    \"2\":135,\n",
        "\n",
        "    \"3\":175,\n",
        "\n",
        "    \"4\":148,\n",
        "\n",
        "    \"5\":127\n",
        "\n",
        "  },\n",
        "\n",
        "  \"Calories\":{\n",
        "\n",
        "    \"0\":409.1,\n",
        "\n",
        "    \"1\":479.0,\n",
        "\n",
        "    \"2\":340.0,\n",
        "\n",
        "    \"3\":282.4,\n",
        "\n",
        "    \"4\":406.0,\n",
        "\n",
        "    \"5\":300.5\n",
        "\n",
        "  }\n",
        "\n",
        "}\n",
        "\n",
        "f = pd.DataFrame(s)\n",
        "\n",
        "print(f) \n",
        "\n"
      ],
      "execution_count": null,
      "outputs": [
        {
          "output_type": "stream",
          "text": [
            "   Duration  Pulse  Maxpulse  Calories\n",
            "0        60    110       130     409.1\n",
            "1        60    117       145     479.0\n",
            "2        60    103       135     340.0\n",
            "3        45    109       175     282.4\n",
            "4        45    117       148     406.0\n",
            "5        60    102       127     300.5\n"
          ],
          "name": "stdout"
        }
      ]
    },
    {
      "cell_type": "code",
      "metadata": {
        "id": "nBr9vau95fXl",
        "colab": {
          "base_uri": "https://localhost:8080/"
        },
        "outputId": "8fbe583e-7f63-4ab8-da57-7650e970b036"
      },
      "source": [
        "from google.colab import drive\n",
        "drive.mount('/gdrive')"
      ],
      "execution_count": null,
      "outputs": [
        {
          "output_type": "stream",
          "text": [
            "Mounted at /gdrive\n"
          ],
          "name": "stdout"
        }
      ]
    },
    {
      "cell_type": "code",
      "metadata": {
        "id": "X5AxJY3JHyC8"
      },
      "source": [
        "\n",
        "l=[\n",
        "   {\n",
        "    \"first_name\": \"laxita\",\n",
        "    \"last_name\":\"baheti\"\n",
        "  },{\n",
        "    \"first_name\":\"nishant\",\n",
        "    \"last_name\":\"baheti\"\n",
        "  },{\n",
        "    \"first_name\":\"harshita\",\n",
        "    \"last_name\":\"baheti\"\n",
        "  }\n",
        "]\n",
        "l[0].update({\"relation\":\"sister\"})\n",
        "l[1].update({\"relation\":\"brother\"})\n",
        "l[2].update({\"relation\":\"sister\"})\n",
        "\n",
        "print(l[0].get(\"first_name\") + \" \" + l[0].get(\"last_name\") + \" \" + l[0].get(\"relation\") + \"\\n\" + \\\n",
        "      l[1].get(\"first_name\") + \" \" + l[1].get(\"last_name\") + \" \" + l[1].get(\"relation\") + \"\\n\" + \\\n",
        "      l[2].get(\"first_name\") + \" \" + l[2].get(\"last_name\") + \" \" + l[2].get(\"relation\"))\n",
        "\n",
        "for j in range(3):\n",
        "    print(l[j][\"first_name\"]+\" \"+l[j][\"last_name\"]+\" \"+ l[j][\"relation\"])"
      ],
      "execution_count": null,
      "outputs": []
    },
    {
      "cell_type": "code",
      "metadata": {
        "colab": {
          "base_uri": "https://localhost:8080/",
          "height": 206
        },
        "id": "yvleplrGI0h1",
        "outputId": "89c3148c-8082-43ac-db95-898ee487593a"
      },
      "source": [
        "import pandas as pd\n",
        "from sklearn.datasets import load_iris\n",
        "import matplotlib.pyplot as plt\n",
        "\n",
        "import pandas as pd\n",
        "from sklearn.datasets import load_iris\n",
        "\n",
        "dataset = load_iris()\n",
        "\n",
        "df = pd.DataFrame(dataset.data,columns=dataset.feature_names)\n",
        "df['target'] = dataset.target\n",
        "\n",
        "df.head()\n",
        "\n"
      ],
      "execution_count": null,
      "outputs": [
        {
          "output_type": "execute_result",
          "data": {
            "text/html": [
              "<div>\n",
              "<style scoped>\n",
              "    .dataframe tbody tr th:only-of-type {\n",
              "        vertical-align: middle;\n",
              "    }\n",
              "\n",
              "    .dataframe tbody tr th {\n",
              "        vertical-align: top;\n",
              "    }\n",
              "\n",
              "    .dataframe thead th {\n",
              "        text-align: right;\n",
              "    }\n",
              "</style>\n",
              "<table border=\"1\" class=\"dataframe\">\n",
              "  <thead>\n",
              "    <tr style=\"text-align: right;\">\n",
              "      <th></th>\n",
              "      <th>sepal length (cm)</th>\n",
              "      <th>sepal width (cm)</th>\n",
              "      <th>petal length (cm)</th>\n",
              "      <th>petal width (cm)</th>\n",
              "      <th>target</th>\n",
              "    </tr>\n",
              "  </thead>\n",
              "  <tbody>\n",
              "    <tr>\n",
              "      <th>0</th>\n",
              "      <td>5.1</td>\n",
              "      <td>3.5</td>\n",
              "      <td>1.4</td>\n",
              "      <td>0.2</td>\n",
              "      <td>0</td>\n",
              "    </tr>\n",
              "    <tr>\n",
              "      <th>1</th>\n",
              "      <td>4.9</td>\n",
              "      <td>3.0</td>\n",
              "      <td>1.4</td>\n",
              "      <td>0.2</td>\n",
              "      <td>0</td>\n",
              "    </tr>\n",
              "    <tr>\n",
              "      <th>2</th>\n",
              "      <td>4.7</td>\n",
              "      <td>3.2</td>\n",
              "      <td>1.3</td>\n",
              "      <td>0.2</td>\n",
              "      <td>0</td>\n",
              "    </tr>\n",
              "    <tr>\n",
              "      <th>3</th>\n",
              "      <td>4.6</td>\n",
              "      <td>3.1</td>\n",
              "      <td>1.5</td>\n",
              "      <td>0.2</td>\n",
              "      <td>0</td>\n",
              "    </tr>\n",
              "    <tr>\n",
              "      <th>4</th>\n",
              "      <td>5.0</td>\n",
              "      <td>3.6</td>\n",
              "      <td>1.4</td>\n",
              "      <td>0.2</td>\n",
              "      <td>0</td>\n",
              "    </tr>\n",
              "  </tbody>\n",
              "</table>\n",
              "</div>"
            ],
            "text/plain": [
              "   sepal length (cm)  sepal width (cm)  ...  petal width (cm)  target\n",
              "0                5.1               3.5  ...               0.2       0\n",
              "1                4.9               3.0  ...               0.2       0\n",
              "2                4.7               3.2  ...               0.2       0\n",
              "3                4.6               3.1  ...               0.2       0\n",
              "4                5.0               3.6  ...               0.2       0\n",
              "\n",
              "[5 rows x 5 columns]"
            ]
          },
          "metadata": {
            "tags": []
          },
          "execution_count": 67
        }
      ]
    },
    {
      "cell_type": "code",
      "metadata": {
        "colab": {
          "base_uri": "https://localhost:8080/",
          "height": 302
        },
        "id": "lbuYwzS4KZzu",
        "outputId": "5a511763-0a8e-4d4b-a990-e65305612104"
      },
      "source": [
        "font1 = {'family':'serif','color':'k','size':10}\n",
        "font2 = {'family':'serif','color':'b','size':10}\n",
        "\n",
        "x1=df[\"sepal length (cm)\"]\n",
        "y1=df[\"sepal width (cm)\"]\n",
        "plt.subplot(2,2,1)\n",
        "plt.scatter(x1, y1, marker='+')\n",
        "plt.title(\"Graph1\", fontdict=font2, loc='left')\n",
        "plt.xlabel(\"sepal length (cm)\", fontdict=font1)\n",
        "plt.ylabel(\"sepal width (cm)\", fontdict= font1)\n",
        "\n",
        "\n",
        "x2=df[\"petal length (cm)\"]\n",
        "y2=df[\"petal width (cm)\"]\n",
        "plt.subplot(2,2,2)\n",
        "plt.scatter(x2, y2, marker='+')\n",
        "plt.title(\"Graph2\",fontdict=font2,loc='left')\n",
        "plt.xlabel(\"petal length (cm)\", fontdict=font1)\n",
        "plt.ylabel(\"petal width (cm)\", fontdict= font1)\n",
        "\n",
        "x3=df[\"sepal length (cm)\"]\n",
        "y3=df[\"petal width (cm)\"]\n",
        "plt.subplot(2,2,3)\n",
        "plt.scatter(x3, y3, marker='+')\n",
        "plt.title(\"Graph3\",fontdict=font2,loc='left')\n",
        "plt.xlabel(\"sepal length (cm)\", fontdict=font1)\n",
        "plt.ylabel(\"petal width (cm)\", fontdict= font1)\n",
        "\n",
        "x4=df[\"sepal width (cm)\"]\n",
        "y4=df[\"petal length (cm)\"]\n",
        "plt.subplot(2,2,4)\n",
        "plt.scatter(x4, y4, marker='+')\n",
        "plt.title(\"Graph4\",fontdict=font2,loc='left')\n",
        "plt.xlabel(\"sepal width (cm)\", fontdict=font1)\n",
        "plt.ylabel(\"petal width (cm)\", fontdict= font1)\n",
        "plt.suptitle(\"Mapping\", color='brown', size=15)\n",
        "\n",
        "plt.tight_layout()\n",
        "plt.show()\n"
      ],
      "execution_count": null,
      "outputs": [
        {
          "output_type": "display_data",
          "data": {
            "image/png": "[encoded data removed]",
            "text/plain": [
              "<Figure size 432x288 with 4 Axes>"
            ]
          },
          "metadata": {
            "tags": [],
            "needs_background": "light"
          }
        }
      ]
    },
    {
      "cell_type": "markdown",
      "metadata": {
        "id": "uUeDxqhl_I5c"
      },
      "source": [
        ""
      ]
    }
  ]
}