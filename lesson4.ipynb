{
  "nbformat": 4,
  "nbformat_minor": 0,
  "metadata": {
    "colab": {
      "name": "lesson4.ipynb",
      "provenance": [],
      "collapsed_sections": [],
      "authorship_tag": "ABX9TyPM5nVIzXC9Z84AW8QQQzVg",
      "include_colab_link": true
    },
    "kernelspec": {
      "name": "python3",
      "display_name": "Python 3"
    },
    "language_info": {
      "name": "python"
    }
  },
  "cells": [
    {
      "cell_type": "markdown",
      "metadata": {
        "id": "view-in-github",
        "colab_type": "text"
      },
      "source": [
        "<a href=\"https://colab.research.google.com/github/laxitabaheti/ColabPythonDemo/blob/main/lesson4.ipynb\" target=\"_parent\"><img src=\"https://colab.research.google.com/assets/colab-badge.svg\" alt=\"Open In Colab\"/></a>"
      ]
    },
    {
      "cell_type": "code",
      "metadata": {
        "colab": {
          "base_uri": "https://localhost:8080/"
        },
        "id": "zr7Ppq-ja76A",
        "outputId": "f928004c-b290-4589-80d8-cf71ba1b9466"
      },
      "source": [
        "  def function(n):\n",
        "    return lambda a:a*n\n",
        "  dblr= function(2)\n",
        "  print(dblr(12))\n",
        "\n",
        "\n"
      ],
      "execution_count": null,
      "outputs": [
        {
          "output_type": "stream",
          "text": [
            "24\n"
          ],
          "name": "stdout"
        }
      ]
    },
    {
      "cell_type": "code",
      "metadata": {
        "colab": {
          "base_uri": "https://localhost:8080/"
        },
        "id": "LamheCUecbUG",
        "outputId": "d5244248-029b-40a3-80a6-038cd089451d"
      },
      "source": [
        "import numpy as np\n",
        "x=np.array([1,2,3,4])\n",
        "print(x)\n",
        "\n",
        "print(np.__version__)\n",
        "\n"
      ],
      "execution_count": null,
      "outputs": [
        {
          "output_type": "stream",
          "text": [
            "[1 2 3 4]\n",
            "1.19.5\n"
          ],
          "name": "stdout"
        }
      ]
    },
    {
      "cell_type": "code",
      "metadata": {
        "id": "G9lKgE_Lcc2G",
        "colab": {
          "base_uri": "https://localhost:8080/"
        },
        "outputId": "474e87ea-05f4-40b5-916a-fa1d9c0da250"
      },
      "source": [
        "n=3\n",
        "if n%2!=0:\n",
        "  print(\"weird\")\n",
        "elif n%2==0 and n in range(2,5):\n",
        "  print(\"not Wierd\")\n",
        "elif n%2==0 and n in range(6,20):\n",
        "  print(\"Wierd\")\n",
        "elif n%2==0 and n>20:\n",
        "  print(\"Not Wierd\")\n",
        "  "
      ],
      "execution_count": null,
      "outputs": [
        {
          "output_type": "stream",
          "text": [
            "weird\n"
          ],
          "name": "stdout"
        }
      ]
    },
    {
      "cell_type": "markdown",
      "metadata": {
        "id": "Gf19BILD5clg"
      },
      "source": [
        "- If n is odd, print Weird\n",
        "- If n is even and in the inclusive range of 2 to 5, print not Weird\n",
        "- If is even and in the inclusive range of 6 to 20\n",
        ", print Weird\n",
        "- If is even and greater than 20 , print Not Weird"
      ]
    },
    {
      "cell_type": "code",
      "metadata": {
        "colab": {
          "base_uri": "https://localhost:8080/"
        },
        "id": "rvZo8S1c9jFC",
        "outputId": "41689624-b6e2-420d-ae08-b2af1dd8449b"
      },
      "source": [
        "n=5\n",
        "if n%2!=0:\n",
        "  print(\"weird\")\n",
        "elif n%2==0 and n in range(2,5):\n",
        "  print(\"not Wierd\")\n",
        "elif n%2==0 and n in range(6,20):\n",
        "  print(\"Wierd\")\n",
        "elif n%2==0 and n>20:\n",
        "  print(\"Not Wierd\")"
      ],
      "execution_count": 33,
      "outputs": [
        {
          "output_type": "stream",
          "text": [
            "weird\n"
          ],
          "name": "stdout"
        }
      ]
    },
    {
      "cell_type": "code",
      "metadata": {
        "colab": {
          "base_uri": "https://localhost:8080/"
        },
        "id": "28qjm8dqAa2N",
        "outputId": "7f42df2b-ee68-4e47-ff71-2a19f3c53956"
      },
      "source": [
        "a=22\n",
        "b=7\n",
        "c=a/b\n",
        "d=a//b\n",
        "print(c)\n",
        "print(d)\n"
      ],
      "execution_count": 34,
      "outputs": [
        {
          "output_type": "stream",
          "text": [
            "3.142857142857143\n",
            "3\n"
          ],
          "name": "stdout"
        }
      ]
    },
    {
      "cell_type": "code",
      "metadata": {
        "id": "OkkHtsX2BsWp",
        "colab": {
          "base_uri": "https://localhost:8080/"
        },
        "outputId": "5332c5ce-9f3e-48dc-bc6d-8c833ea570d4"
      },
      "source": [
        "def sq(n):\n",
        "  if n>=0:\n",
        "    for i in range(n):\n",
        "      print(i*i)\n",
        "sq(5)"
      ],
      "execution_count": 35,
      "outputs": [
        {
          "output_type": "stream",
          "text": [
            "0\n",
            "1\n",
            "4\n",
            "9\n",
            "16\n"
          ],
          "name": "stdout"
        }
      ]
    },
    {
      "cell_type": "code",
      "metadata": {
        "colab": {
          "base_uri": "https://localhost:8080/"
        },
        "id": "zIPjwLzWEtJe",
        "outputId": "50a27abf-9e72-4c22-f7f1-02426bad2ccc"
      },
      "source": [
        "import sys\n",
        "def is_leap(year):\n",
        "  if year%4==0:\n",
        "    print(\"true\")\n",
        "  elif year%4!=0:\n",
        "    print(\"false\")\n",
        "    sys.exit()\n",
        "year =int(input())\n",
        "is_leap(year)"
      ],
      "execution_count": 36,
      "outputs": [
        {
          "output_type": "stream",
          "text": [
            "1700\n",
            "true\n"
          ],
          "name": "stdout"
        }
      ]
    }
  ]
}