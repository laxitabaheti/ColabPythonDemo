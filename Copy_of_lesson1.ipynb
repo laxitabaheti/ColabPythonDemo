{
  "nbformat": 4,
  "nbformat_minor": 0,
  "metadata": {
    "colab": {
      "name": "Copy of lesson1.ipynb",
      "provenance": [],
      "collapsed_sections": [],
      "authorship_tag": "ABX9TyM0/a0j0zDULxV1jNu7kBvH",
      "include_colab_link": true
    },
    "kernelspec": {
      "name": "python3",
      "display_name": "Python 3"
    },
    "language_info": {
      "name": "python"
    }
  },
  "cells": [
    {
      "cell_type": "markdown",
      "metadata": {
        "id": "view-in-github",
        "colab_type": "text"
      },
      "source": [
        "<a href=\"https://colab.research.google.com/github/laxitabaheti/ColabPythonDemo/blob/main/Copy_of_lesson1.ipynb\" target=\"_parent\"><img src=\"https://colab.research.google.com/assets/colab-badge.svg\" alt=\"Open In Colab\"/></a>"
      ]
    },
    {
      "cell_type": "code",
      "metadata": {
        "id": "loxAAgvG5r5W",
        "colab": {
          "base_uri": "https://localhost:8080/"
        },
        "outputId": "9b6a8c6e-524a-465b-f3db-7e25d47a2896"
      },
      "source": [
        "x=int(1)\n",
        "y=float(2)\n",
        "print(type(x))\n"
      ],
      "execution_count": null,
      "outputs": [
        {
          "output_type": "stream",
          "text": [
            "<class 'int'>\n"
          ],
          "name": "stdout"
        }
      ]
    },
    {
      "cell_type": "code",
      "metadata": {
        "colab": {
          "base_uri": "https://localhost:8080/"
        },
        "id": "z-FYrM32jSRH",
        "outputId": "3cf111fd-771f-4c71-d289-eec6c46d9844"
      },
      "source": [
        "cat=[\"A\",\"B\",\"C\"]\n",
        "x ,y , z = cat\n",
        "print(x)\n",
        "print(y)\n",
        "print(z)\n"
      ],
      "execution_count": null,
      "outputs": [
        {
          "output_type": "stream",
          "text": [
            "A\n",
            "B\n",
            "C\n"
          ],
          "name": "stdout"
        }
      ]
    },
    {
      "cell_type": "code",
      "metadata": {
        "colab": {
          "base_uri": "https://localhost:8080/"
        },
        "id": "KIrlCuNemkXd",
        "outputId": "48f38dfa-5222-4ee0-dddd-6ced090649a9"
      },
      "source": [
        "x = \"cat\"\n",
        "def phew():\n",
        "  print(\"smelly \" +x)\n",
        "\n",
        "phew()"
      ],
      "execution_count": null,
      "outputs": [
        {
          "output_type": "stream",
          "text": [
            "smelly cat\n"
          ],
          "name": "stdout"
        }
      ]
    },
    {
      "cell_type": "code",
      "metadata": {
        "colab": {
          "base_uri": "https://localhost:8080/"
        },
        "id": "cq80vkuGnsi_",
        "outputId": "15e98995-550c-48f3-d8f5-ca7e3cc2bd82"
      },
      "source": [
        "x= \"Happy\"\n",
        "\n",
        "def k():\n",
        "  print(x+\" smile\")\n",
        "\n",
        "k()\n",
        "\n",
        "print(x+ \" not happy\")"
      ],
      "execution_count": null,
      "outputs": [
        {
          "output_type": "stream",
          "text": [
            "Happy smile\n",
            "Happy not happy\n"
          ],
          "name": "stdout"
        }
      ]
    },
    {
      "cell_type": "code",
      "metadata": {
        "colab": {
          "base_uri": "https://localhost:8080/"
        },
        "id": "zP_948h4pLj8",
        "outputId": "56c1fc33-2efc-4cad-a9e2-0d12de877933"
      },
      "source": [
        "x=5\n",
        "y=6\n",
        "print(x+y)"
      ],
      "execution_count": null,
      "outputs": [
        {
          "output_type": "stream",
          "text": [
            "11\n"
          ],
          "name": "stdout"
        }
      ]
    },
    {
      "cell_type": "code",
      "metadata": {
        "colab": {
          "base_uri": "https://localhost:8080/"
        },
        "id": "ryytiU5H3GA-",
        "outputId": "ad8ce446-063b-46cf-8152-9548e891aa12"
      },
      "source": [
        "print('laxita')"
      ],
      "execution_count": null,
      "outputs": [
        {
          "output_type": "stream",
          "text": [
            "laxita\n"
          ],
          "name": "stdout"
        }
      ]
    },
    {
      "cell_type": "code",
      "metadata": {
        "colab": {
          "base_uri": "https://localhost:8080/"
        },
        "id": "ylFeceli0Kdz",
        "outputId": "03eee407-659a-4add-9b66-a7da23784205"
      },
      "source": [
        "import random \n",
        "print(random.randrange(1,20))"
      ],
      "execution_count": null,
      "outputs": [
        {
          "output_type": "stream",
          "text": [
            "9\n"
          ],
          "name": "stdout"
        }
      ]
    },
    {
      "cell_type": "code",
      "metadata": {
        "colab": {
          "base_uri": "https://localhost:8080/"
        },
        "id": "VLTh_cxd5c3P",
        "outputId": "cd7b0ff2-19d1-4048-9ebd-1b43de2dc096"
      },
      "source": [
        "x=int(\"34\")\n",
        "y=float(\"34.5\")\n",
        "if x>y:\n",
        "  print(\"false\")\n",
        "else:\n",
        "  print(\"true\")"
      ],
      "execution_count": null,
      "outputs": [
        {
          "output_type": "stream",
          "text": [
            "true\n"
          ],
          "name": "stdout"
        }
      ]
    },
    {
      "cell_type": "code",
      "metadata": {
        "colab": {
          "base_uri": "https://localhost:8080/"
        },
        "id": "k9TfXzrl70IK",
        "outputId": "96b2f282-8b84-4604-b0b9-3da1185c2606"
      },
      "source": [
        "def _len_() :\n",
        " return 0\n",
        "x=_len_()\n",
        "print(bool(x))"
      ],
      "execution_count": null,
      "outputs": [
        {
          "output_type": "stream",
          "text": [
            "False\n"
          ],
          "name": "stdout"
        }
      ]
    },
    {
      "cell_type": "code",
      "metadata": {
        "colab": {
          "base_uri": "https://localhost:8080/"
        },
        "id": "K-yb-OmFURfL",
        "outputId": "692ce929-de92-4629-d154-4a44c94277f7"
      },
      "source": [
        "x=3\n",
        "x|=2\n",
        "print(x)"
      ],
      "execution_count": null,
      "outputs": [
        {
          "output_type": "stream",
          "text": [
            "3\n"
          ],
          "name": "stdout"
        }
      ]
    },
    {
      "cell_type": "code",
      "metadata": {
        "colab": {
          "base_uri": "https://localhost:8080/"
        },
        "id": "-8pMxMc0VjON",
        "outputId": "6e80e72c-116a-472b-9ceb-1b48671466ab"
      },
      "source": [
        "2 | 3"
      ],
      "execution_count": null,
      "outputs": [
        {
          "output_type": "execute_result",
          "data": {
            "text/plain": [
              "3"
            ]
          },
          "metadata": {
            "tags": []
          },
          "execution_count": 11
        }
      ]
    },
    {
      "cell_type": "code",
      "metadata": {
        "colab": {
          "base_uri": "https://localhost:8080/"
        },
        "id": "vlkeeVvqXF1Q",
        "outputId": "e758a764-0154-40e2-9ec7-e21003131230"
      },
      "source": [
        "x = None\n",
        "y = True\n",
        "if x and y:\n",
        "  print(\"True\")\n",
        "else:\n",
        "  print(\"False\")"
      ],
      "execution_count": null,
      "outputs": [
        {
          "output_type": "stream",
          "text": [
            "False\n"
          ],
          "name": "stdout"
        }
      ]
    },
    {
      "cell_type": "code",
      "metadata": {
        "colab": {
          "base_uri": "https://localhost:8080/"
        },
        "id": "HEvT-iwhYGCt",
        "outputId": "44fd5965-33d2-47c8-d1c7-f8866e101f07"
      },
      "source": [
        "y=10\n",
        "if y<12 and y>7 :\n",
        " print(\"True\")\n",
        "else :\n",
        " print(\"False\") "
      ],
      "execution_count": null,
      "outputs": [
        {
          "output_type": "stream",
          "text": [
            "True\n"
          ],
          "name": "stdout"
        }
      ]
    },
    {
      "cell_type": "code",
      "metadata": {
        "colab": {
          "base_uri": "https://localhost:8080/"
        },
        "id": "5CSbj4XAYJiW",
        "outputId": "61e5447a-6b33-456b-9673-7b65c854b880"
      },
      "source": [
        "2 or \"laxita\""
      ],
      "execution_count": null,
      "outputs": [
        {
          "output_type": "execute_result",
          "data": {
            "text/plain": [
              "2"
            ]
          },
          "metadata": {
            "tags": []
          },
          "execution_count": 16
        }
      ]
    },
    {
      "cell_type": "code",
      "metadata": {
        "colab": {
          "base_uri": "https://localhost:8080/"
        },
        "id": "g-a2C501YI77",
        "outputId": "2892c091-dd0a-4b4c-933f-7a02bc397597"
      },
      "source": [
        "x= 2\n",
        "y=2.0\n",
        "\n",
        "x is y,x == y"
      ],
      "execution_count": null,
      "outputs": [
        {
          "output_type": "execute_result",
          "data": {
            "text/plain": [
              "(False, True)"
            ]
          },
          "metadata": {
            "tags": []
          },
          "execution_count": 17
        }
      ]
    },
    {
      "cell_type": "code",
      "metadata": {
        "colab": {
          "base_uri": "https://localhost:8080/"
        },
        "id": "kKn_r2SkYOtD",
        "outputId": "62456658-a530-4c07-e350-d9bbac2ecc4f"
      },
      "source": [
        "2==2.0"
      ],
      "execution_count": null,
      "outputs": [
        {
          "output_type": "execute_result",
          "data": {
            "text/plain": [
              "True"
            ]
          },
          "metadata": {
            "tags": []
          },
          "execution_count": 18
        }
      ]
    },
    {
      "cell_type": "code",
      "metadata": {
        "colab": {
          "base_uri": "https://localhost:8080/"
        },
        "id": "zQReJHjbYR6I",
        "outputId": "2ca57953-933d-4216-dd1b-44b966133e9f"
      },
      "source": [
        "cat=[\"hh\",\"yy\",\"kk\",\"hh\",2,True]\n",
        "print(cat[-3])"
      ],
      "execution_count": null,
      "outputs": [
        {
          "output_type": "stream",
          "text": [
            "hh\n"
          ],
          "name": "stdout"
        }
      ]
    },
    {
      "cell_type": "code",
      "metadata": {
        "colab": {
          "base_uri": "https://localhost:8080/"
        },
        "id": "J-xKEXjRYSdi",
        "outputId": "2d123bdc-80c0-4bb0-8f57-2753bd7107d7"
      },
      "source": [
        "print(cat[2:4])"
      ],
      "execution_count": null,
      "outputs": [
        {
          "output_type": "stream",
          "text": [
            "['kk', 'hh']\n"
          ],
          "name": "stdout"
        }
      ]
    },
    {
      "cell_type": "code",
      "metadata": {
        "colab": {
          "base_uri": "https://localhost:8080/"
        },
        "id": "xtUFZEGyYS-y",
        "outputId": "f76ed089-e0e1-4a56-d147-8f2c5d73a399"
      },
      "source": [
        "print(cat[:3])"
      ],
      "execution_count": null,
      "outputs": [
        {
          "output_type": "stream",
          "text": [
            "['hh', 'yy', 'kk']\n"
          ],
          "name": "stdout"
        }
      ]
    },
    {
      "cell_type": "code",
      "metadata": {
        "colab": {
          "base_uri": "https://localhost:8080/"
        },
        "id": "Cs_FerD8ivdR",
        "outputId": "c7a4f8a0-5c82-4dea-be30-cfbfd0fc209a"
      },
      "source": [
        "if \"ll\" in cat:\n",
        "  print(\"yes\")\n",
        "else:\n",
        "  print(\"no\") "
      ],
      "execution_count": null,
      "outputs": [
        {
          "output_type": "stream",
          "text": [
            "no\n"
          ],
          "name": "stdout"
        }
      ]
    },
    {
      "cell_type": "code",
      "metadata": {
        "colab": {
          "base_uri": "https://localhost:8080/"
        },
        "id": "KOV7tfeqivsD",
        "outputId": "11633e41-8053-4aee-f0fc-0dedd4997194"
      },
      "source": [
        "\"ll\" in cat"
      ],
      "execution_count": null,
      "outputs": [
        {
          "output_type": "execute_result",
          "data": {
            "text/plain": [
              "False"
            ]
          },
          "metadata": {
            "tags": []
          },
          "execution_count": 23
        }
      ]
    },
    {
      "cell_type": "code",
      "metadata": {
        "colab": {
          "base_uri": "https://localhost:8080/"
        },
        "id": "i3qQomHEiv3E",
        "outputId": "7dd86c30-df38-4a63-b86a-8f2d9dafc98c"
      },
      "source": [
        " cat[2]= \"pp+oo\"\n",
        " print(cat)"
      ],
      "execution_count": null,
      "outputs": [
        {
          "output_type": "stream",
          "text": [
            "['hh', 'yy', 'pp+oo', 'hh', 2, True]\n"
          ],
          "name": "stdout"
        }
      ]
    },
    {
      "cell_type": "code",
      "metadata": {
        "colab": {
          "base_uri": "https://localhost:8080/"
        },
        "id": "3VORUOUjiv-Z",
        "outputId": "0b1d5899-4d14-4a10-e9eb-d7f7fcff7274"
      },
      "source": [
        "cat[1:4]=[\"nn\",\"jk\",\"la\"]\n",
        "print(cat)"
      ],
      "execution_count": null,
      "outputs": [
        {
          "output_type": "stream",
          "text": [
            "['hh', 'nn', 'jk', 'la', 2, True]\n"
          ],
          "name": "stdout"
        }
      ]
    },
    {
      "cell_type": "code",
      "metadata": {
        "colab": {
          "base_uri": "https://localhost:8080/"
        },
        "id": "k8CYIfphiwGX",
        "outputId": "c8ccae90-c071-49f5-dac7-9b0cb5425a38"
      },
      "source": [
        "cat[1:5]=[\"j\",\"k\",\"c\",\"s\",\"a\",\"f\"]\n",
        "print(cat)"
      ],
      "execution_count": null,
      "outputs": [
        {
          "output_type": "stream",
          "text": [
            "['hh', 'j', 'k', 'c', 's', 'a', 'f', True]\n"
          ],
          "name": "stdout"
        }
      ]
    },
    {
      "cell_type": "code",
      "metadata": {
        "colab": {
          "base_uri": "https://localhost:8080/"
        },
        "id": "pxEriCXRmKgT",
        "outputId": "62cd4137-4082-496b-ef0c-9354cf738c2e"
      },
      "source": [
        "cat.insert(7,\"vv\")\n",
        "print(cat)"
      ],
      "execution_count": null,
      "outputs": [
        {
          "output_type": "stream",
          "text": [
            "['hh', 'j', 'k', 'c', 's', 'a', 'f', 'vv', True]\n"
          ],
          "name": "stdout"
        }
      ]
    },
    {
      "cell_type": "code",
      "metadata": {
        "colab": {
          "base_uri": "https://localhost:8080/"
        },
        "id": "iOheGRHCmKw4",
        "outputId": "1afcbb70-7678-4d86-a524-b723d26a2dd2"
      },
      "source": [
        "colors=[\"blue\",\"black\",\"red\",\"white\"]\n",
        "colors.append(\"yellow\")\n",
        "print(colors)"
      ],
      "execution_count": null,
      "outputs": [
        {
          "output_type": "stream",
          "text": [
            "['blue', 'black', 'red', 'white', 'yellow']\n"
          ],
          "name": "stdout"
        }
      ]
    },
    {
      "cell_type": "code",
      "metadata": {
        "colab": {
          "base_uri": "https://localhost:8080/"
        },
        "id": "2-KLgIMs0LYF",
        "outputId": "6a7cfdf3-ad63-4d61-e533-0bfc47ee4d3b"
      },
      "source": [
        "colors.insert(3,\"green\")\n",
        "print(colors)"
      ],
      "execution_count": null,
      "outputs": [
        {
          "output_type": "stream",
          "text": [
            "['blue', 'black', 'red', 'green', 'white', 'yellow']\n"
          ],
          "name": "stdout"
        }
      ]
    },
    {
      "cell_type": "code",
      "metadata": {
        "colab": {
          "base_uri": "https://localhost:8080/"
        },
        "id": "GdoKr_oR0LuA",
        "outputId": "36c0e7d6-81cd-409a-b87b-1d08b03e20e6"
      },
      "source": [
        "colors1=[1,2,3,4]\n",
        "colors.extend(colors1)\n",
        "print(colors)"
      ],
      "execution_count": null,
      "outputs": [
        {
          "output_type": "stream",
          "text": [
            "['blue', 'black', 'red', 'green', 'white', 'yellow', 1, 2, 3, 4]\n"
          ],
          "name": "stdout"
        }
      ]
    },
    {
      "cell_type": "code",
      "metadata": {
        "colab": {
          "base_uri": "https://localhost:8080/"
        },
        "id": "ZXT2ffam0wMK",
        "outputId": "6925b164-9fcf-4ff3-c72d-26d8e6ddd91d"
      },
      "source": [
        "colors.pop(2)\n",
        "print(colors)"
      ],
      "execution_count": null,
      "outputs": [
        {
          "output_type": "stream",
          "text": [
            "['blue', 'black', 'green', 'white', 'yellow', 1, 2, 3, 4]\n"
          ],
          "name": "stdout"
        }
      ]
    },
    {
      "cell_type": "code",
      "metadata": {
        "colab": {
          "base_uri": "https://localhost:8080/"
        },
        "id": "vpfD9ObZ0wVx",
        "outputId": "4e57f509-465a-4a6d-8d7b-afe656875bfa"
      },
      "source": [
        "del colors[3]\n",
        "print(colors)"
      ],
      "execution_count": null,
      "outputs": [
        {
          "output_type": "stream",
          "text": [
            "['blue', 'black', 'green', 'yellow', 1, 2, 3, 4]\n"
          ],
          "name": "stdout"
        }
      ]
    },
    {
      "cell_type": "code",
      "metadata": {
        "colab": {
          "base_uri": "https://localhost:8080/"
        },
        "id": "j9ROglnB0wfR",
        "outputId": "7dd4fae2-6ef5-419a-9ce1-c4e1468f6809"
      },
      "source": [
        "colors=[1,2,3,4]\n",
        "colors.clear()\n",
        "print(colors)"
      ],
      "execution_count": null,
      "outputs": [
        {
          "output_type": "stream",
          "text": [
            "[]\n"
          ],
          "name": "stdout"
        }
      ]
    },
    {
      "cell_type": "code",
      "metadata": {
        "colab": {
          "base_uri": "https://localhost:8080/"
        },
        "id": "jotzvs5S2Qis",
        "outputId": "34a5c4c0-c70c-4f4a-8437-2dba629fea56"
      },
      "source": [
        "A=(\"a\",\"b\",\"c\",\"d\")\n",
        "B=list(A)\n",
        "B[3]=\"T\"\n",
        "A=tuple(B)\n",
        "\n",
        "print(A)"
      ],
      "execution_count": null,
      "outputs": [
        {
          "output_type": "stream",
          "text": [
            "('a', 'b', 'c', 'T')\n"
          ],
          "name": "stdout"
        }
      ]
    },
    {
      "cell_type": "code",
      "metadata": {
        "colab": {
          "base_uri": "https://localhost:8080/",
          "height": 244
        },
        "id": "GVRzMxRI2Q_3",
        "outputId": "3b435259-7b13-40e6-ab88-88615f913215"
      },
      "source": [
        "x = {\"apple\", \"banana\", \"cherry\"}\n",
        "y = {\"google\", \"microsoft\", \"apple\"}\n",
        "\n",
        "z=x.union(y)\n",
        "z1=x.intersection_update(y)\n",
        "z2=x.intersection(y)\n",
        "z3=x.symmetric_difference(y)\n",
        "z4=x.symmetric_difference_update(y)\n",
        "print(z,z1,z2,z3,z4)\n",
        "\n",
        "z.clear()\n",
        "print(z)\n",
        "del z4\n",
        "print (z4)"
      ],
      "execution_count": null,
      "outputs": [
        {
          "output_type": "stream",
          "text": [
            "{'google', 'cherry', 'banana', 'microsoft', 'apple'} None {'apple'} {'google', 'microsoft'} None\n",
            "set()\n"
          ],
          "name": "stdout"
        },
        {
          "output_type": "error",
          "ename": "NameError",
          "evalue": "ignored",
          "traceback": [
            "\u001b[0;31m---------------------------------------------------------------------------\u001b[0m",
            "\u001b[0;31mNameError\u001b[0m                                 Traceback (most recent call last)",
            "\u001b[0;32m<ipython-input-35-7a8d33d20c7c>\u001b[0m in \u001b[0;36m<module>\u001b[0;34m()\u001b[0m\n\u001b[1;32m     12\u001b[0m \u001b[0mprint\u001b[0m\u001b[0;34m(\u001b[0m\u001b[0mz\u001b[0m\u001b[0;34m)\u001b[0m\u001b[0;34m\u001b[0m\u001b[0;34m\u001b[0m\u001b[0m\n\u001b[1;32m     13\u001b[0m \u001b[0;32mdel\u001b[0m \u001b[0mz4\u001b[0m\u001b[0;34m\u001b[0m\u001b[0;34m\u001b[0m\u001b[0m\n\u001b[0;32m---> 14\u001b[0;31m \u001b[0mprint\u001b[0m \u001b[0;34m(\u001b[0m\u001b[0mz4\u001b[0m\u001b[0;34m)\u001b[0m\u001b[0;34m\u001b[0m\u001b[0;34m\u001b[0m\u001b[0m\n\u001b[0m",
            "\u001b[0;31mNameError\u001b[0m: name 'z4' is not defined"
          ]
        }
      ]
    },
    {
      "cell_type": "code",
      "metadata": {
        "colab": {
          "base_uri": "https://localhost:8080/"
        },
        "id": "LxTkBsXB2TGW",
        "outputId": "e3e0551d-ff66-43d2-aaa4-fd6ac0b6b91b"
      },
      "source": [
        "thisdict = {\n",
        "  \"brand\": \"Ford\",\n",
        "  \"model\": \"Mustang\",\n",
        "  \"year\": 1964\n",
        "}\n",
        "thisdict.update({\"year\": 2020})\n",
        "\n",
        "print(thisdict)"
      ],
      "execution_count": null,
      "outputs": [
        {
          "output_type": "stream",
          "text": [
            "{'brand': 'Ford', 'model': 'Mustang', 'year': 2020}\n"
          ],
          "name": "stdout"
        }
      ]
    },
    {
      "cell_type": "code",
      "metadata": {
        "colab": {
          "base_uri": "https://localhost:8080/"
        },
        "id": "2a1jDURZPL2b",
        "outputId": "de2f0890-0e06-4f8f-cc66-5ac95d5c587e"
      },
      "source": [
        "dict1={1:{\"A\":1,\"B\":2},2:{\"C\":3,\"D\":4},3:{\"E\":5,\"F\":6}}\n",
        "dict2={1:{\"G\":1,\"H \":2},2:{\"I\":3,\"J\":4},3:{\"K\":5,\"L\":6}}\n",
        "dict3={1:{\"M\":1,\"N\":2},2:{\"O\":3,\"P\":4},3:{\"Q\":5,\"R\":6}}    \n",
        "dictt={\"dict1\":dict1,\"dict2\":dict2,\"dict3\":dict3}  \n",
        "print(dictt)"
      ],
      "execution_count": null,
      "outputs": [
        {
          "output_type": "stream",
          "text": [
            "{'dict1': {1: {'A': 1, 'B': 2}, 2: {'C': 3, 'D': 4}, 3: {'E': 5, 'F': 6}}, 'dict2': {1: {'G': 1, 'H ': 2}, 2: {'I': 3, 'J': 4}, 3: {'K': 5, 'L': 6}}, 'dict3': {1: {'M': 1, 'N': 2}, 2: {'O': 3, 'P': 4}, 3: {'Q': 5, 'R': 6}}}\n"
          ],
          "name": "stdout"
        }
      ]
    }
  ]
}