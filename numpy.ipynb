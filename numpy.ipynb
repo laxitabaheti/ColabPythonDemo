{
  "nbformat": 4,
  "nbformat_minor": 0,
  "metadata": {
    "colab": {
      "name": "numpy.ipynb",
      "provenance": [],
      "collapsed_sections": [],
      "authorship_tag": "ABX9TyPZSBfpJSSnCv3xFVsrouGj",
      "include_colab_link": true
    },
    "kernelspec": {
      "name": "python3",
      "display_name": "Python 3"
    },
    "language_info": {
      "name": "python"
    }
  },
  "cells": [
    {
      "cell_type": "markdown",
      "metadata": {
        "id": "view-in-github",
        "colab_type": "text"
      },
      "source": [
        "<a href=\"https://colab.research.google.com/github/laxitabaheti/ColabPythonDemo/blob/main/numpy.ipynb\" target=\"_parent\"><img src=\"https://colab.research.google.com/assets/colab-badge.svg\" alt=\"Open In Colab\"/></a>"
      ]
    },
    {
      "cell_type": "code",
      "metadata": {
        "colab": {
          "base_uri": "https://localhost:8080/"
        },
        "id": "8cIs1_jlnWFi",
        "outputId": "6580f73f-0779-4e67-9da3-30fbf575be2a"
      },
      "source": [
        "import numpy as np\n",
        "arr=np.array([[1],\n",
        "              [2]])\n",
        "print(arr)\n"
      ],
      "execution_count": null,
      "outputs": [
        {
          "output_type": "stream",
          "text": [
            "[[1]\n",
            " [2]]\n"
          ],
          "name": "stdout"
        }
      ]
    },
    {
      "cell_type": "code",
      "metadata": {
        "colab": {
          "base_uri": "https://localhost:8080/"
        },
        "id": "bkLFVlqy77Er",
        "outputId": "aa4c2953-7768-4b46-8c37-50f6d4d96b32"
      },
      "source": [
        "import numpy as np\n",
        "\n",
        "arr = np.array([1, 2, 3, 4],ndmin=4)\n",
        "print(arr)\n",
        "print(arr.ndim)\n",
        "print(arr.dtype)\n",
        "\n",
        "\n",
        "x= arr.copy()\n",
        "y=arr.view()\n",
        "print(x)\n",
        "print(y)\n"
      ],
      "execution_count": null,
      "outputs": [
        {
          "output_type": "stream",
          "text": [
            "[[[[1 2 3 4]]]]\n",
            "4\n",
            "int64\n",
            "[[[[1 2 3 4]]]]\n",
            "[[[[1 2 3 4]]]]\n"
          ],
          "name": "stdout"
        }
      ]
    },
    {
      "cell_type": "code",
      "metadata": {
        "colab": {
          "base_uri": "https://localhost:8080/"
        },
        "id": "Uef6raPZGL8x",
        "outputId": "0221c200-1eed-4fda-f7b8-b1ca66765de5"
      },
      "source": [
        "import numpy as np\n",
        "\n",
        "arr = np.array([[1, 2, 3, 4, 5], [6, 7, 8, 9, 10]])\n",
        "print(arr[0:,3])\n",
        "print(arr[0:2,0:3])\n"
      ],
      "execution_count": null,
      "outputs": [
        {
          "output_type": "stream",
          "text": [
            "[4 9]\n",
            "[[1 2 3]\n",
            " [6 7 8]]\n"
          ],
          "name": "stdout"
        }
      ]
    },
    {
      "cell_type": "code",
      "metadata": {
        "colab": {
          "base_uri": "https://localhost:8080/"
        },
        "id": "p0ula4eCz9U6",
        "outputId": "19115936-d220-4718-8bc1-a02a551bd88c"
      },
      "source": [
        "import numpy as np\n",
        "\n",
        "arr = np.array([1, 2, 3, 4], ndmin=5)\n",
        "\n",
        "print(arr)\n",
        "\n",
        "print('shape of array :', arr.shape)\n"
      ],
      "execution_count": null,
      "outputs": [
        {
          "output_type": "stream",
          "text": [
            "[[[[[1 2 3 4]]]]]\n",
            "shape of array : (1, 1, 1, 1, 4)\n"
          ],
          "name": "stdout"
        }
      ]
    },
    {
      "cell_type": "code",
      "metadata": {
        "colab": {
          "base_uri": "https://localhost:8080/"
        },
        "id": "2DrGbCo9vJO6",
        "outputId": "f0f96846-fd9e-4988-ac32-466400473914"
      },
      "source": [
        "import numpy as np\n",
        "\n",
        "arr = np.array([1, 2, 3, 4], ndmin=7)\n",
        "\n",
        "print(arr)\n",
        "print('number of dimensions :', arr.ndim)\n"
      ],
      "execution_count": null,
      "outputs": [
        {
          "output_type": "stream",
          "text": [
            "[[[[[[[1 2 3 4]]]]]]]\n",
            "number of dimensions : 7\n"
          ],
          "name": "stdout"
        }
      ]
    },
    {
      "cell_type": "code",
      "metadata": {
        "colab": {
          "base_uri": "https://localhost:8080/"
        },
        "id": "kqoJfP7w2uXW",
        "outputId": "e546dc57-57b6-460e-d786-d73ad03f0c8a"
      },
      "source": [
        "import numpy as np\n",
        "arr=np.array([[[1,2,3],[2,3,4]],[[3,4,5],[4,5,6]]])\n",
        " \n",
        "for x in arr:\n",
        "  for y in x:\n",
        "    for z in y:\n",
        "      print (z)\n",
        "      "
      ],
      "execution_count": null,
      "outputs": [
        {
          "output_type": "stream",
          "text": [
            "1\n",
            "2\n",
            "3\n",
            "2\n",
            "3\n",
            "4\n",
            "3\n",
            "4\n",
            "5\n",
            "4\n",
            "5\n",
            "6\n"
          ],
          "name": "stdout"
        }
      ]
    },
    {
      "cell_type": "code",
      "metadata": {
        "colab": {
          "base_uri": "https://localhost:8080/"
        },
        "id": "PT0vI9X12umt",
        "outputId": "e567a41d-09a9-45f5-8080-d2638e8f1bb8"
      },
      "source": [
        "import numpy as np\n",
        "arr=np.array([[[1,2,3],[2,3,4]],[[3,4,5],[4,5,6]]])\n",
        " \n",
        "for x in np.nditer(arr):\n",
        "  print(x)\n",
        "  "
      ],
      "execution_count": null,
      "outputs": [
        {
          "output_type": "stream",
          "text": [
            "1\n",
            "2\n",
            "3\n",
            "2\n",
            "3\n",
            "4\n",
            "3\n",
            "4\n",
            "5\n",
            "4\n",
            "5\n",
            "6\n"
          ],
          "name": "stdout"
        }
      ]
    },
    {
      "cell_type": "code",
      "metadata": {
        "colab": {
          "base_uri": "https://localhost:8080/"
        },
        "id": "ZykXFGxnISN5",
        "outputId": "9a5a89fa-b71d-470f-fb09-424342fa6757"
      },
      "source": [
        "import numpy as np\n",
        "\n",
        "arr1 = np.array([1, 2, 3])\n",
        "\n",
        "arr2 = np.array([4, 5, 6])\n",
        "\n",
        "arr = np.concatenate((arr1, arr2))\n",
        "\n",
        "print(arr)\n"
      ],
      "execution_count": null,
      "outputs": [
        {
          "output_type": "stream",
          "text": [
            "[1 2 3 4 5 6]\n"
          ],
          "name": "stdout"
        }
      ]
    },
    {
      "cell_type": "code",
      "metadata": {
        "colab": {
          "base_uri": "https://localhost:8080/"
        },
        "id": "j0eYMcatISdA",
        "outputId": "4eb0b210-86b1-48e7-9f27-89f1e3f94440"
      },
      "source": [
        "import numpy as np\n",
        "\n",
        "arr1 = np.array([[[1,2],[3,4]],[[5,6],[7,8]]])\n",
        "\n",
        "arr2 = np.array ([[[9,10],[11,12]],[[13,14],[15,16]]])\n",
        "\n",
        "arr3=np.concatenate((arr1,arr2),axis=0)\n",
        "arr4=np.concatenate((arr1,arr2),axis=1)\n",
        "arr5=np.concatenate((arr1,arr2),axis=2)\n",
        "\n",
        "\n",
        "print(arr3)\n",
        "print(arr4)\n",
        "print(arr5)\n"
      ],
      "execution_count": null,
      "outputs": [
        {
          "output_type": "stream",
          "text": [
            "[[[ 1  2]\n",
            "  [ 3  4]]\n",
            "\n",
            " [[ 5  6]\n",
            "  [ 7  8]]\n",
            "\n",
            " [[ 9 10]\n",
            "  [11 12]]\n",
            "\n",
            " [[13 14]\n",
            "  [15 16]]]\n",
            "[[[ 1  2]\n",
            "  [ 3  4]\n",
            "  [ 9 10]\n",
            "  [11 12]]\n",
            "\n",
            " [[ 5  6]\n",
            "  [ 7  8]\n",
            "  [13 14]\n",
            "  [15 16]]]\n",
            "[[[ 1  2  9 10]\n",
            "  [ 3  4 11 12]]\n",
            "\n",
            " [[ 5  6 13 14]\n",
            "  [ 7  8 15 16]]]\n"
          ],
          "name": "stdout"
        }
      ]
    },
    {
      "cell_type": "code",
      "metadata": {
        "colab": {
          "base_uri": "https://localhost:8080/"
        },
        "id": "lglmpdxPQxiz",
        "outputId": "9e56186d-9b81-4b13-e940-09c9b8c5db0a"
      },
      "source": [
        "import numpy as np\n",
        "arr1 = np.array([[[1,2],[3,4]],[[5,6],[7,8]]])\n",
        "\n",
        "arr2 = np.array ([[[9,10],[11,12]],[[13,14],[15,16]]])\n",
        "\n",
        "arrA=np.hstack((arr1,arr2))\n",
        "arrB=np.vstack((arr1,arr2))\n",
        "arrC=np.dstack((arr1,arr2))\n",
        "\n",
        "print(arrA.shape)\n",
        "print(arrA)\n",
        "print(arrB.shape)\n",
        "print(arrB)\n",
        "print(arrC.shape)\n",
        "print(arrC)\n"
      ],
      "execution_count": null,
      "outputs": [
        {
          "output_type": "stream",
          "text": [
            "(2, 4, 2)\n",
            "[[[ 1  2]\n",
            "  [ 3  4]\n",
            "  [ 9 10]\n",
            "  [11 12]]\n",
            "\n",
            " [[ 5  6]\n",
            "  [ 7  8]\n",
            "  [13 14]\n",
            "  [15 16]]]\n",
            "(4, 2, 2)\n",
            "[[[ 1  2]\n",
            "  [ 3  4]]\n",
            "\n",
            " [[ 5  6]\n",
            "  [ 7  8]]\n",
            "\n",
            " [[ 9 10]\n",
            "  [11 12]]\n",
            "\n",
            " [[13 14]\n",
            "  [15 16]]]\n",
            "(2, 2, 4)\n",
            "[[[ 1  2  9 10]\n",
            "  [ 3  4 11 12]]\n",
            "\n",
            " [[ 5  6 13 14]\n",
            "  [ 7  8 15 16]]]\n"
          ],
          "name": "stdout"
        }
      ]
    },
    {
      "cell_type": "code",
      "metadata": {
        "colab": {
          "base_uri": "https://localhost:8080/"
        },
        "id": "bHEhA32FU53P",
        "outputId": "36ad855a-8b00-4d5c-94b1-e2a6d38e5462"
      },
      "source": [
        "import numpy as np\n",
        "arr1 = np.array([[1,2],[3,4]])\n",
        "\n",
        "arr2 = np.array ([[9,10],[11,12]])\n",
        "\n",
        "arr=np.vstack((arr1,arr2))\n",
        "print(arr1)\n",
        "print(arr2)\n",
        "print(arr)\n",
        "print(arr1.shape)\n",
        "print(arr2.shape)\n",
        "print(arr.shape)\n"
      ],
      "execution_count": null,
      "outputs": [
        {
          "output_type": "stream",
          "text": [
            "[[1 2]\n",
            " [3 4]]\n",
            "[[ 9 10]\n",
            " [11 12]]\n",
            "[[ 1  2]\n",
            " [ 3  4]\n",
            " [ 9 10]\n",
            " [11 12]]\n",
            "(2, 2)\n",
            "(2, 2)\n",
            "(4, 2)\n"
          ],
          "name": "stdout"
        }
      ]
    },
    {
      "cell_type": "code",
      "metadata": {
        "colab": {
          "base_uri": "https://localhost:8080/"
        },
        "id": "QeN7bHrIPuZw",
        "outputId": "6e7dc8fe-d0fb-4e5e-9947-9cf532b05eaf"
      },
      "source": [
        "import numpy as np\n",
        "\n",
        "arr = np.array([1, 2, 3, 4, 5, 6, 7, 8])\n",
        "\n",
        "x = np.where(arr%2 == 0)\n",
        "y = np.where(arr%2 == 1)\n",
        "\n",
        "print(x)\n",
        "print(y)\n"
      ],
      "execution_count": null,
      "outputs": [
        {
          "output_type": "stream",
          "text": [
            "(array([1, 3, 5, 7]),)\n",
            "(array([0, 2, 4, 6]),)\n"
          ],
          "name": "stdout"
        }
      ]
    },
    {
      "cell_type": "code",
      "metadata": {
        "colab": {
          "base_uri": "https://localhost:8080/"
        },
        "id": "PJ2rKfSkNxCC",
        "outputId": "cdedbc47-c270-4a88-e75b-e962e1394b5b"
      },
      "source": [
        "import numpy as np\n",
        "\n",
        "arr = np.array([\n",
        "                [1, 2, 3], \n",
        "                [4, 5, 6], \n",
        "                [7, 8, 9], \n",
        "                [10, 11, 12], \n",
        "                [13, 14, 15], \n",
        "                [16, 17, 18]\n",
        "                ])\n",
        "\n",
        "newarr = np.array_split(arr,2)\n",
        "\n",
        "print(newarr) \n"
      ],
      "execution_count": null,
      "outputs": [
        {
          "output_type": "stream",
          "text": [
            "[array([[1, 2, 3],\n",
            "       [4, 5, 6],\n",
            "       [7, 8, 9]]), array([[10, 11, 12],\n",
            "       [13, 14, 15],\n",
            "       [16, 17, 18]])]\n"
          ],
          "name": "stdout"
        }
      ]
    },
    {
      "cell_type": "code",
      "metadata": {
        "colab": {
          "base_uri": "https://localhost:8080/"
        },
        "id": "vJmF_TEDQNwP",
        "outputId": "f57d7ba3-ec2f-4dfc-a304-5ebc9c8a7859"
      },
      "source": [
        "import numpy as np\n",
        "\n",
        "arr = np.array([[1, 2, 3], [4, 5, 6], [7, 8, 9], [10, 11, 12], [13, 14, 15], [16, 17, 18]])\n",
        "print(arr.shape)\n"
      ],
      "execution_count": null,
      "outputs": [
        {
          "output_type": "stream",
          "text": [
            "(6, 3)\n"
          ],
          "name": "stdout"
        }
      ]
    },
    {
      "cell_type": "code",
      "metadata": {
        "colab": {
          "base_uri": "https://localhost:8080/"
        },
        "id": "nXwKGjaZNHBo",
        "outputId": "f134354e-0755-44c0-d8f3-24b29bde94f6"
      },
      "source": [
        "import numpy as np\n",
        "\n",
        "arr = np.array([41, 42, 43, 44])\n",
        "\n",
        "x = [True, False, True, False]\n",
        "\n",
        "newarr = arr[x]\n",
        "\n",
        "print(newarr)\n"
      ],
      "execution_count": null,
      "outputs": [
        {
          "output_type": "stream",
          "text": [
            "[41 43]\n"
          ],
          "name": "stdout"
        }
      ]
    },
    {
      "cell_type": "code",
      "metadata": {
        "colab": {
          "base_uri": "https://localhost:8080/"
        },
        "id": "E5sIu0XmPyPc",
        "outputId": "ec4a97d5-b043-44fd-f475-8c06ca4c51b0"
      },
      "source": [
        "import numpy as np\n",
        "arr=np.array([1,-2,3,-4,5,-6,7])\n",
        "arr1=arr>0\n",
        "arr2 = arr[arr1]\n",
        "print(arr1)\n",
        "print(arr2)\n"
      ],
      "execution_count": null,
      "outputs": [
        {
          "output_type": "stream",
          "text": [
            "[ True False  True False  True False  True]\n",
            "[1 3 5 7]\n"
          ],
          "name": "stdout"
        }
      ]
    },
    {
      "cell_type": "code",
      "metadata": {
        "colab": {
          "base_uri": "https://localhost:8080/"
        },
        "id": "xHSTEmaiR_Tg",
        "outputId": "d5c4184e-b7bf-4817-fffb-948e22d6bb9f"
      },
      "source": [
        "import numpy as np\n",
        "\n",
        "arr = np.array([1, 2, 3, 4, 5, 6, 7, 8, 9, 10, 11, 12])\n",
        "arr.reshape(3,4)\n"
      ],
      "execution_count": null,
      "outputs": [
        {
          "output_type": "execute_result",
          "data": {
            "text/plain": [
              "array([[ 1,  2,  3,  4],\n",
              "       [ 5,  6,  7,  8],\n",
              "       [ 9, 10, 11, 12]])"
            ]
          },
          "metadata": {
            "tags": []
          },
          "execution_count": 38
        }
      ]
    },
    {
      "cell_type": "code",
      "metadata": {
        "colab": {
          "base_uri": "https://localhost:8080/"
        },
        "id": "o_VEVMnhn9hg",
        "outputId": "b4ac14af-0f9e-4d3f-95d3-be5292221f94"
      },
      "source": [
        "import numpy as np\n",
        "\n",
        "a=np.linspace(1,10,100)\n",
        "print(a)\n"
      ],
      "execution_count": null,
      "outputs": [
        {
          "output_type": "stream",
          "text": [
            "[ 1.          1.09090909  1.18181818  1.27272727  1.36363636  1.45454545\n",
            "  1.54545455  1.63636364  1.72727273  1.81818182  1.90909091  2.\n",
            "  2.09090909  2.18181818  2.27272727  2.36363636  2.45454545  2.54545455\n",
            "  2.63636364  2.72727273  2.81818182  2.90909091  3.          3.09090909\n",
            "  3.18181818  3.27272727  3.36363636  3.45454545  3.54545455  3.63636364\n",
            "  3.72727273  3.81818182  3.90909091  4.          4.09090909  4.18181818\n",
            "  4.27272727  4.36363636  4.45454545  4.54545455  4.63636364  4.72727273\n",
            "  4.81818182  4.90909091  5.          5.09090909  5.18181818  5.27272727\n",
            "  5.36363636  5.45454545  5.54545455  5.63636364  5.72727273  5.81818182\n",
            "  5.90909091  6.          6.09090909  6.18181818  6.27272727  6.36363636\n",
            "  6.45454545  6.54545455  6.63636364  6.72727273  6.81818182  6.90909091\n",
            "  7.          7.09090909  7.18181818  7.27272727  7.36363636  7.45454545\n",
            "  7.54545455  7.63636364  7.72727273  7.81818182  7.90909091  8.\n",
            "  8.09090909  8.18181818  8.27272727  8.36363636  8.45454545  8.54545455\n",
            "  8.63636364  8.72727273  8.81818182  8.90909091  9.          9.09090909\n",
            "  9.18181818  9.27272727  9.36363636  9.45454545  9.54545455  9.63636364\n",
            "  9.72727273  9.81818182  9.90909091 10.        ]\n"
          ],
          "name": "stdout"
        }
      ]
    },
    {
      "cell_type": "code",
      "metadata": {
        "colab": {
          "base_uri": "https://localhost:8080/"
        },
        "id": "PxHLmcIWonrs",
        "outputId": "78a8abf4-c8f0-4a49-9067-1830abe74181"
      },
      "source": [
        "import numpy as np\n",
        "\n",
        "arr = np.array([1, 2, 3, 4, 5, 6, 7, 8, 9, 10, 11, 12])\n",
        "print(arr.max())\n",
        "print(arr.min())\n",
        "print(arr.sum())\n"
      ],
      "execution_count": null,
      "outputs": [
        {
          "output_type": "stream",
          "text": [
            "12\n",
            "1\n",
            "78\n"
          ],
          "name": "stdout"
        }
      ]
    },
    {
      "cell_type": "code",
      "metadata": {
        "colab": {
          "base_uri": "https://localhost:8080/"
        },
        "id": "AccXvJ-fpyix",
        "outputId": "11e4a09e-7679-4cb4-a104-4ee07d88ed12"
      },
      "source": [
        "\n",
        "from numpy import random\n",
        "\n",
        "ll= random.randint(2)\n",
        "print(ll)\n",
        "kk= random.rand()\n",
        "print(kk)\n",
        "mm= random.randint(200,size=(1,6))\n",
        "print(mm)\n",
        "nn= random.rand(2,6)\n",
        "print(nn)\n",
        "oo=random.choice([2,3,4,5],size=(2,3))\n",
        "print(oo)\n"
      ],
      "execution_count": null,
      "outputs": [
        {
          "output_type": "stream",
          "text": [
            "0\n",
            "0.2653614175507636\n",
            "[[ 55  96 103  92   5 157]]\n",
            "[[0.27063902 0.77064724 0.35572424 0.85141252 0.63462768 0.43568635]\n",
            " [0.77302192 0.44917881 0.08082161 0.73024002 0.6648027  0.3624523 ]]\n",
            "[[4 4 2]\n",
            " [3 4 3]]\n"
          ],
          "name": "stdout"
        }
      ]
    },
    {
      "cell_type": "code",
      "metadata": {
        "colab": {
          "base_uri": "https://localhost:8080/"
        },
        "id": "y5Vyn0jxwbwq",
        "outputId": "93f70727-c741-4d8b-87b0-edf2c783e511"
      },
      "source": [
        "from numpy import random\n",
        "\n",
        "X = random.choice([1,2,3,4], p=[0.3, 0.3, 0.3, 0.1], size=(3,2))\n",
        "\n",
        "print(X)\n"
      ],
      "execution_count": null,
      "outputs": [
        {
          "output_type": "stream",
          "text": [
            "[[1 3]\n",
            " [3 3]\n",
            " [2 1]]\n"
          ],
          "name": "stdout"
        }
      ]
    },
    {
      "cell_type": "code",
      "metadata": {
        "colab": {
          "base_uri": "https://localhost:8080/"
        },
        "id": "RlciZcv_JwQh",
        "outputId": "c3e2e326-adcc-42db-d843-fbcd3d793918"
      },
      "source": [
        "from numpy import random\n",
        "\n",
        "import numpy as np\n",
        "\n",
        "arr = np.array([1, 2, 3, 4, 5])\n",
        "random.shuffle(arr)\n",
        "print(arr)\n",
        "\n"
      ],
      "execution_count": null,
      "outputs": [
        {
          "output_type": "stream",
          "text": [
            "[1 4 3 2 5]\n"
          ],
          "name": "stdout"
        }
      ]
    },
    {
      "cell_type": "code",
      "metadata": {
        "colab": {
          "base_uri": "https://localhost:8080/"
        },
        "id": "5e0-Je1dK5Cu",
        "outputId": "23b3910b-a7aa-4d43-ca71-d4e5109e79dd"
      },
      "source": [
        "from numpy import random\n",
        "\n",
        "import numpy as np\n",
        "\n",
        "arr = np.array([1, 2, 3, 4, 5])\n",
        "random.permutation(arr)\n",
        "print(arr)\n"
      ],
      "execution_count": null,
      "outputs": [
        {
          "output_type": "stream",
          "text": [
            "[1 2 3 4 5]\n"
          ],
          "name": "stdout"
        }
      ]
    },
    {
      "cell_type": "markdown",
      "metadata": {
        "id": "wR5eCY2lLAZt"
      },
      "source": [
        "Shuffle changes the original array but permutation doesn't."
      ]
    }
  ]
}